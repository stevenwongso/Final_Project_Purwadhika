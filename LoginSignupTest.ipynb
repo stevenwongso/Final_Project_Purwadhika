{
 "cells": [
  {
   "cell_type": "code",
   "execution_count": 1,
   "metadata": {},
   "outputs": [],
   "source": [
    "import numpy as np\n",
    "import pandas as pd\n",
    "import matplotlib.pyplot as plt\n",
    "import mysql.connector"
   ]
  },
  {
   "cell_type": "code",
   "execution_count": 2,
   "metadata": {},
   "outputs": [],
   "source": [
    "dblogin = mysql.connector.connect(\n",
    "    host = 'localhost',\n",
    "    port = 3306,\n",
    "    user = 'root',\n",
    "    passwd = '0101steven',\n",
    "    database = 'loginfp')\n",
    "\n",
    "db = dblogin.cursor()"
   ]
  },
  {
   "cell_type": "markdown",
   "metadata": {},
   "source": [
    "## Sign Up"
   ]
  },
  {
   "cell_type": "code",
   "execution_count": 22,
   "metadata": {},
   "outputs": [],
   "source": [
    "#datadummy :\n",
    "username = 'steven'\n",
    "password = '0101steven'\n",
    "email = 'stevensnevet@gmail.com'\n",
    "gender = 'male'\n",
    "age = 21"
   ]
  },
  {
   "cell_type": "code",
   "execution_count": 3,
   "metadata": {},
   "outputs": [],
   "source": [
    "queryread = 'select * from usercc'\n",
    "dfusercc = pd.read_sql(queryread,dblogin)"
   ]
  },
  {
   "cell_type": "code",
   "execution_count": 4,
   "metadata": {},
   "outputs": [
    {
     "data": {
      "text/html": [
       "<div>\n",
       "<style scoped>\n",
       "    .dataframe tbody tr th:only-of-type {\n",
       "        vertical-align: middle;\n",
       "    }\n",
       "\n",
       "    .dataframe tbody tr th {\n",
       "        vertical-align: top;\n",
       "    }\n",
       "\n",
       "    .dataframe thead th {\n",
       "        text-align: right;\n",
       "    }\n",
       "</style>\n",
       "<table border=\"1\" class=\"dataframe\">\n",
       "  <thead>\n",
       "    <tr style=\"text-align: right;\">\n",
       "      <th></th>\n",
       "      <th>id</th>\n",
       "      <th>username</th>\n",
       "      <th>password</th>\n",
       "      <th>email</th>\n",
       "      <th>gender</th>\n",
       "      <th>age</th>\n",
       "    </tr>\n",
       "  </thead>\n",
       "  <tbody>\n",
       "    <tr>\n",
       "      <th>0</th>\n",
       "      <td>1</td>\n",
       "      <td>steven</td>\n",
       "      <td>0101steven</td>\n",
       "      <td>stevensnevet@gmail.com</td>\n",
       "      <td>male</td>\n",
       "      <td>21</td>\n",
       "    </tr>\n",
       "    <tr>\n",
       "      <th>1</th>\n",
       "      <td>3</td>\n",
       "      <td>admin</td>\n",
       "      <td>admincc</td>\n",
       "      <td>admincc@gmail.com</td>\n",
       "      <td>male</td>\n",
       "      <td>22</td>\n",
       "    </tr>\n",
       "  </tbody>\n",
       "</table>\n",
       "</div>"
      ],
      "text/plain": [
       "   id username    password                    email gender  age\n",
       "0   1   steven  0101steven   stevensnevet@gmail.com   male   21\n",
       "1   3    admin     admincc        admincc@gmail.com   male   22"
      ]
     },
     "execution_count": 4,
     "metadata": {},
     "output_type": "execute_result"
    }
   ],
   "source": [
    "dfusercc"
   ]
  },
  {
   "cell_type": "code",
   "execution_count": 32,
   "metadata": {},
   "outputs": [
    {
     "name": "stdout",
     "output_type": "stream",
     "text": [
      "Maaf user telah terdaftar!\n"
     ]
    }
   ],
   "source": [
    "if username not in list(dfusercc['username']) and email not in list(dfusercc['email']):\n",
    "    querysignup = 'insert into usercc (username,password,email,gender,age) values (%s,%s,%s,%s,%s)'\n",
    "    insertdata = (username,password,email,gender,age)\n",
    "    db.execute(querysignup,insertdata)\n",
    "    dblogin.commit()\n",
    "else :\n",
    "    print('Maaf user telah terdaftar!')"
   ]
  },
  {
   "cell_type": "markdown",
   "metadata": {},
   "source": [
    "## Login"
   ]
  },
  {
   "cell_type": "code",
   "execution_count": 35,
   "metadata": {},
   "outputs": [],
   "source": [
    "#datadummy :\n",
    "loginuser = 'steven'\n",
    "loginpass = '0101steven'"
   ]
  },
  {
   "cell_type": "code",
   "execution_count": 39,
   "metadata": {},
   "outputs": [
    {
     "name": "stdout",
     "output_type": "stream",
     "text": [
      "Maaf username/email salah\n"
     ]
    }
   ],
   "source": [
    "if loginuser in list(dfusercc['username']) or loginuser in list(dfusercc['email']):\n",
    "    if loginpass in list(dfusercc['password']):\n",
    "        print('Login Berhasil')\n",
    "    else :\n",
    "        print('Maaf Password Salah')\n",
    "    \n",
    "else :\n",
    "    print ('Maaf username/email salah')"
   ]
  },
  {
   "cell_type": "code",
   "execution_count": 44,
   "metadata": {},
   "outputs": [],
   "source": [
    "#datadummy :\n",
    "loginuser = ' stevensnevet@gmail.com'\n",
    "loginpass = '0101steven'"
   ]
  },
  {
   "cell_type": "code",
   "execution_count": 45,
   "metadata": {},
   "outputs": [
    {
     "name": "stdout",
     "output_type": "stream",
     "text": [
      "Login Berhasil\n"
     ]
    }
   ],
   "source": [
    "if loginuser in list(dfusercc['username']) or loginuser in list(dfusercc['email']):\n",
    "    if loginpass in list(dfusercc['password']):\n",
    "        print('Login Berhasil')\n",
    "    else :\n",
    "        print('Maaf Password Salah')\n",
    "    \n",
    "else :\n",
    "    print ('Maaf username/email salah')"
   ]
  },
  {
   "cell_type": "code",
   "execution_count": 47,
   "metadata": {},
   "outputs": [],
   "source": [
    "#datadummy :\n",
    "loginuser = 'asdas'\n",
    "loginpass = '0101steven'"
   ]
  },
  {
   "cell_type": "code",
   "execution_count": 48,
   "metadata": {},
   "outputs": [
    {
     "name": "stdout",
     "output_type": "stream",
     "text": [
      "Maaf username/email salah\n"
     ]
    }
   ],
   "source": [
    "if loginuser in list(dfusercc['username']) or loginuser in list(dfusercc['email']):\n",
    "    if loginpass in list(dfusercc['password']):\n",
    "        print('Login Berhasil')\n",
    "    else :\n",
    "        print('Maaf Password Salah')\n",
    "    \n",
    "else :\n",
    "    print ('Maaf username/email salah')"
   ]
  },
  {
   "cell_type": "code",
   "execution_count": 49,
   "metadata": {},
   "outputs": [],
   "source": [
    "#datadummy :\n",
    "loginuser = 'steven'\n",
    "loginpass = '0101even'"
   ]
  },
  {
   "cell_type": "code",
   "execution_count": 50,
   "metadata": {},
   "outputs": [
    {
     "name": "stdout",
     "output_type": "stream",
     "text": [
      "Maaf Password Salah\n"
     ]
    }
   ],
   "source": [
    "if loginuser in list(dfusercc['username']) or loginuser in list(dfusercc['email']):\n",
    "    if loginpass in list(dfusercc['password']):\n",
    "        print('Login Berhasil')\n",
    "    else :\n",
    "        print('Maaf Password Salah')\n",
    "    \n",
    "else :\n",
    "    print ('Maaf username/email salah')"
   ]
  },
  {
   "cell_type": "code",
   "execution_count": null,
   "metadata": {},
   "outputs": [],
   "source": []
  }
 ],
 "metadata": {
  "kernelspec": {
   "display_name": "Python 3",
   "language": "python",
   "name": "python3"
  },
  "language_info": {
   "codemirror_mode": {
    "name": "ipython",
    "version": 3
   },
   "file_extension": ".py",
   "mimetype": "text/x-python",
   "name": "python",
   "nbconvert_exporter": "python",
   "pygments_lexer": "ipython3",
   "version": "3.8.1"
  }
 },
 "nbformat": 4,
 "nbformat_minor": 4
}
