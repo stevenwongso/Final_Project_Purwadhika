{
 "cells": [
  {
   "cell_type": "code",
   "execution_count": 1,
   "metadata": {},
   "outputs": [],
   "source": [
    "import numpy as np\n",
    "import pandas as pd\n",
    "import matplotlib.pyplot as plt\n",
    "from sklearn.model_selection import train_test_split"
   ]
  },
  {
   "cell_type": "markdown",
   "metadata": {},
   "source": [
    "# Model Machine Learning : Credit Card Approval\n",
    "\n",
    "<hr>"
   ]
  },
  {
   "cell_type": "markdown",
   "metadata": {},
   "source": [
    "## Dataset\n",
    "\n",
    "<hr>"
   ]
  },
  {
   "cell_type": "code",
   "execution_count": 2,
   "metadata": {},
   "outputs": [
    {
     "data": {
      "text/html": [
       "<div>\n",
       "<style scoped>\n",
       "    .dataframe tbody tr th:only-of-type {\n",
       "        vertical-align: middle;\n",
       "    }\n",
       "\n",
       "    .dataframe tbody tr th {\n",
       "        vertical-align: top;\n",
       "    }\n",
       "\n",
       "    .dataframe thead th {\n",
       "        text-align: right;\n",
       "    }\n",
       "</style>\n",
       "<table border=\"1\" class=\"dataframe\">\n",
       "  <thead>\n",
       "    <tr style=\"text-align: right;\">\n",
       "      <th></th>\n",
       "      <th>ID</th>\n",
       "      <th>CODE_GENDER</th>\n",
       "      <th>FLAG_OWN_CAR</th>\n",
       "      <th>FLAG_OWN_REALTY</th>\n",
       "      <th>CNT_CHILDREN</th>\n",
       "      <th>AMT_INCOME_TOTAL</th>\n",
       "      <th>NAME_INCOME_TYPE</th>\n",
       "      <th>NAME_EDUCATION_TYPE</th>\n",
       "      <th>NAME_FAMILY_STATUS</th>\n",
       "      <th>NAME_HOUSING_TYPE</th>\n",
       "      <th>DAYS_BIRTH</th>\n",
       "      <th>DAYS_EMPLOYED</th>\n",
       "      <th>FLAG_MOBIL</th>\n",
       "      <th>FLAG_WORK_PHONE</th>\n",
       "      <th>FLAG_PHONE</th>\n",
       "      <th>FLAG_EMAIL</th>\n",
       "      <th>OCCUPATION_TYPE</th>\n",
       "      <th>CNT_FAM_MEMBERS</th>\n",
       "    </tr>\n",
       "  </thead>\n",
       "  <tbody>\n",
       "    <tr>\n",
       "      <th>0</th>\n",
       "      <td>5008804</td>\n",
       "      <td>M</td>\n",
       "      <td>Y</td>\n",
       "      <td>Y</td>\n",
       "      <td>0</td>\n",
       "      <td>427500.0</td>\n",
       "      <td>Working</td>\n",
       "      <td>Higher education</td>\n",
       "      <td>Civil marriage</td>\n",
       "      <td>Rented apartment</td>\n",
       "      <td>-12005</td>\n",
       "      <td>-4542</td>\n",
       "      <td>1</td>\n",
       "      <td>1</td>\n",
       "      <td>0</td>\n",
       "      <td>0</td>\n",
       "      <td>NaN</td>\n",
       "      <td>2.0</td>\n",
       "    </tr>\n",
       "    <tr>\n",
       "      <th>1</th>\n",
       "      <td>5008805</td>\n",
       "      <td>M</td>\n",
       "      <td>Y</td>\n",
       "      <td>Y</td>\n",
       "      <td>0</td>\n",
       "      <td>427500.0</td>\n",
       "      <td>Working</td>\n",
       "      <td>Higher education</td>\n",
       "      <td>Civil marriage</td>\n",
       "      <td>Rented apartment</td>\n",
       "      <td>-12005</td>\n",
       "      <td>-4542</td>\n",
       "      <td>1</td>\n",
       "      <td>1</td>\n",
       "      <td>0</td>\n",
       "      <td>0</td>\n",
       "      <td>NaN</td>\n",
       "      <td>2.0</td>\n",
       "    </tr>\n",
       "    <tr>\n",
       "      <th>2</th>\n",
       "      <td>5008806</td>\n",
       "      <td>M</td>\n",
       "      <td>Y</td>\n",
       "      <td>Y</td>\n",
       "      <td>0</td>\n",
       "      <td>112500.0</td>\n",
       "      <td>Working</td>\n",
       "      <td>Secondary / secondary special</td>\n",
       "      <td>Married</td>\n",
       "      <td>House / apartment</td>\n",
       "      <td>-21474</td>\n",
       "      <td>-1134</td>\n",
       "      <td>1</td>\n",
       "      <td>0</td>\n",
       "      <td>0</td>\n",
       "      <td>0</td>\n",
       "      <td>Security staff</td>\n",
       "      <td>2.0</td>\n",
       "    </tr>\n",
       "    <tr>\n",
       "      <th>3</th>\n",
       "      <td>5008808</td>\n",
       "      <td>F</td>\n",
       "      <td>N</td>\n",
       "      <td>Y</td>\n",
       "      <td>0</td>\n",
       "      <td>270000.0</td>\n",
       "      <td>Commercial associate</td>\n",
       "      <td>Secondary / secondary special</td>\n",
       "      <td>Single / not married</td>\n",
       "      <td>House / apartment</td>\n",
       "      <td>-19110</td>\n",
       "      <td>-3051</td>\n",
       "      <td>1</td>\n",
       "      <td>0</td>\n",
       "      <td>1</td>\n",
       "      <td>1</td>\n",
       "      <td>Sales staff</td>\n",
       "      <td>1.0</td>\n",
       "    </tr>\n",
       "    <tr>\n",
       "      <th>4</th>\n",
       "      <td>5008809</td>\n",
       "      <td>F</td>\n",
       "      <td>N</td>\n",
       "      <td>Y</td>\n",
       "      <td>0</td>\n",
       "      <td>270000.0</td>\n",
       "      <td>Commercial associate</td>\n",
       "      <td>Secondary / secondary special</td>\n",
       "      <td>Single / not married</td>\n",
       "      <td>House / apartment</td>\n",
       "      <td>-19110</td>\n",
       "      <td>-3051</td>\n",
       "      <td>1</td>\n",
       "      <td>0</td>\n",
       "      <td>1</td>\n",
       "      <td>1</td>\n",
       "      <td>Sales staff</td>\n",
       "      <td>1.0</td>\n",
       "    </tr>\n",
       "  </tbody>\n",
       "</table>\n",
       "</div>"
      ],
      "text/plain": [
       "        ID CODE_GENDER FLAG_OWN_CAR FLAG_OWN_REALTY  CNT_CHILDREN  \\\n",
       "0  5008804           M            Y               Y             0   \n",
       "1  5008805           M            Y               Y             0   \n",
       "2  5008806           M            Y               Y             0   \n",
       "3  5008808           F            N               Y             0   \n",
       "4  5008809           F            N               Y             0   \n",
       "\n",
       "   AMT_INCOME_TOTAL      NAME_INCOME_TYPE            NAME_EDUCATION_TYPE  \\\n",
       "0          427500.0               Working               Higher education   \n",
       "1          427500.0               Working               Higher education   \n",
       "2          112500.0               Working  Secondary / secondary special   \n",
       "3          270000.0  Commercial associate  Secondary / secondary special   \n",
       "4          270000.0  Commercial associate  Secondary / secondary special   \n",
       "\n",
       "     NAME_FAMILY_STATUS  NAME_HOUSING_TYPE  DAYS_BIRTH  DAYS_EMPLOYED  \\\n",
       "0        Civil marriage   Rented apartment      -12005          -4542   \n",
       "1        Civil marriage   Rented apartment      -12005          -4542   \n",
       "2               Married  House / apartment      -21474          -1134   \n",
       "3  Single / not married  House / apartment      -19110          -3051   \n",
       "4  Single / not married  House / apartment      -19110          -3051   \n",
       "\n",
       "   FLAG_MOBIL  FLAG_WORK_PHONE  FLAG_PHONE  FLAG_EMAIL OCCUPATION_TYPE  \\\n",
       "0           1                1           0           0             NaN   \n",
       "1           1                1           0           0             NaN   \n",
       "2           1                0           0           0  Security staff   \n",
       "3           1                0           1           1     Sales staff   \n",
       "4           1                0           1           1     Sales staff   \n",
       "\n",
       "   CNT_FAM_MEMBERS  \n",
       "0              2.0  \n",
       "1              2.0  \n",
       "2              2.0  \n",
       "3              1.0  \n",
       "4              1.0  "
      ]
     },
     "execution_count": 2,
     "metadata": {},
     "output_type": "execute_result"
    }
   ],
   "source": [
    "dfapp = pd.read_csv('application_record.csv')\n",
    "dfapp.head()"
   ]
  },
  {
   "cell_type": "code",
   "execution_count": 3,
   "metadata": {},
   "outputs": [
    {
     "data": {
      "text/html": [
       "<div>\n",
       "<style scoped>\n",
       "    .dataframe tbody tr th:only-of-type {\n",
       "        vertical-align: middle;\n",
       "    }\n",
       "\n",
       "    .dataframe tbody tr th {\n",
       "        vertical-align: top;\n",
       "    }\n",
       "\n",
       "    .dataframe thead th {\n",
       "        text-align: right;\n",
       "    }\n",
       "</style>\n",
       "<table border=\"1\" class=\"dataframe\">\n",
       "  <thead>\n",
       "    <tr style=\"text-align: right;\">\n",
       "      <th></th>\n",
       "      <th>ID</th>\n",
       "      <th>MONTHS_BALANCE</th>\n",
       "      <th>STATUS</th>\n",
       "    </tr>\n",
       "  </thead>\n",
       "  <tbody>\n",
       "    <tr>\n",
       "      <th>0</th>\n",
       "      <td>5001711</td>\n",
       "      <td>0</td>\n",
       "      <td>X</td>\n",
       "    </tr>\n",
       "    <tr>\n",
       "      <th>1</th>\n",
       "      <td>5001711</td>\n",
       "      <td>-1</td>\n",
       "      <td>0</td>\n",
       "    </tr>\n",
       "    <tr>\n",
       "      <th>2</th>\n",
       "      <td>5001711</td>\n",
       "      <td>-2</td>\n",
       "      <td>0</td>\n",
       "    </tr>\n",
       "    <tr>\n",
       "      <th>3</th>\n",
       "      <td>5001711</td>\n",
       "      <td>-3</td>\n",
       "      <td>0</td>\n",
       "    </tr>\n",
       "    <tr>\n",
       "      <th>4</th>\n",
       "      <td>5001712</td>\n",
       "      <td>0</td>\n",
       "      <td>C</td>\n",
       "    </tr>\n",
       "  </tbody>\n",
       "</table>\n",
       "</div>"
      ],
      "text/plain": [
       "        ID  MONTHS_BALANCE STATUS\n",
       "0  5001711               0      X\n",
       "1  5001711              -1      0\n",
       "2  5001711              -2      0\n",
       "3  5001711              -3      0\n",
       "4  5001712               0      C"
      ]
     },
     "execution_count": 3,
     "metadata": {},
     "output_type": "execute_result"
    }
   ],
   "source": [
    "dfcr = pd.read_csv('credit_record.csv')\n",
    "dfcr.head()"
   ]
  },
  {
   "cell_type": "markdown",
   "metadata": {},
   "source": [
    "## Data Dictionary\n",
    "\n",
    "<img src = 'ModelImage/Credit Approval Explanation.JPG' width=\"600\" height=\"400\" />\n",
    "\n",
    "<img src = 'ModelImage/Credit record explanation.JPG' width=\"600\" height=\"400\" />"
   ]
  },
  {
   "cell_type": "markdown",
   "metadata": {},
   "source": [
    "### Defining Target\n",
    "\n",
    "Late payments can have a significant effect on credit card score.The late payment is added to credit report when your payment is more than 30 days late. An entry is added to your credit report and can stay for seven years. \n",
    "\n",
    "in this case :\n",
    "- Approve: if status below 30 days due (Status : 0, C, X) (Label : 0)\n",
    "- Reject : if stats above 30 days due ( Status : 1,2,3,4,5) (Label : 1)\n"
   ]
  },
  {
   "cell_type": "code",
   "execution_count": 4,
   "metadata": {},
   "outputs": [],
   "source": [
    "dfcr['target'] = dfcr['STATUS'].apply(lambda x : 0 if x == 'X' or x == 'C' or x == '0' else 1)"
   ]
  },
  {
   "cell_type": "code",
   "execution_count": 5,
   "metadata": {},
   "outputs": [],
   "source": [
    "dfcr = dfcr.groupby('ID').max()\n",
    "dfcr = dfcr.drop(['MONTHS_BALANCE','STATUS'], axis=1)"
   ]
  },
  {
   "cell_type": "code",
   "execution_count": 6,
   "metadata": {},
   "outputs": [
    {
     "data": {
      "text/html": [
       "<div>\n",
       "<style scoped>\n",
       "    .dataframe tbody tr th:only-of-type {\n",
       "        vertical-align: middle;\n",
       "    }\n",
       "\n",
       "    .dataframe tbody tr th {\n",
       "        vertical-align: top;\n",
       "    }\n",
       "\n",
       "    .dataframe thead th {\n",
       "        text-align: right;\n",
       "    }\n",
       "</style>\n",
       "<table border=\"1\" class=\"dataframe\">\n",
       "  <thead>\n",
       "    <tr style=\"text-align: right;\">\n",
       "      <th></th>\n",
       "      <th>ID</th>\n",
       "      <th>target</th>\n",
       "      <th>Gender</th>\n",
       "      <th>Car</th>\n",
       "      <th>Property</th>\n",
       "      <th>NoChild</th>\n",
       "      <th>Income</th>\n",
       "      <th>IncomeType</th>\n",
       "      <th>Education</th>\n",
       "      <th>MartialStat</th>\n",
       "      <th>HousingType</th>\n",
       "      <th>DAYS_BIRTH</th>\n",
       "      <th>DAYS_EMPLOYED</th>\n",
       "      <th>MobilePhone</th>\n",
       "      <th>Workphone</th>\n",
       "      <th>Phone</th>\n",
       "      <th>Email</th>\n",
       "      <th>Occupation</th>\n",
       "      <th>FamSize</th>\n",
       "    </tr>\n",
       "  </thead>\n",
       "  <tbody>\n",
       "    <tr>\n",
       "      <th>0</th>\n",
       "      <td>5008804</td>\n",
       "      <td>1</td>\n",
       "      <td>M</td>\n",
       "      <td>Y</td>\n",
       "      <td>Y</td>\n",
       "      <td>0</td>\n",
       "      <td>427500.0</td>\n",
       "      <td>Working</td>\n",
       "      <td>Higher education</td>\n",
       "      <td>Civil marriage</td>\n",
       "      <td>Rented apartment</td>\n",
       "      <td>-12005</td>\n",
       "      <td>-4542</td>\n",
       "      <td>1</td>\n",
       "      <td>1</td>\n",
       "      <td>0</td>\n",
       "      <td>0</td>\n",
       "      <td>NaN</td>\n",
       "      <td>2.0</td>\n",
       "    </tr>\n",
       "    <tr>\n",
       "      <th>1</th>\n",
       "      <td>5008805</td>\n",
       "      <td>1</td>\n",
       "      <td>M</td>\n",
       "      <td>Y</td>\n",
       "      <td>Y</td>\n",
       "      <td>0</td>\n",
       "      <td>427500.0</td>\n",
       "      <td>Working</td>\n",
       "      <td>Higher education</td>\n",
       "      <td>Civil marriage</td>\n",
       "      <td>Rented apartment</td>\n",
       "      <td>-12005</td>\n",
       "      <td>-4542</td>\n",
       "      <td>1</td>\n",
       "      <td>1</td>\n",
       "      <td>0</td>\n",
       "      <td>0</td>\n",
       "      <td>NaN</td>\n",
       "      <td>2.0</td>\n",
       "    </tr>\n",
       "    <tr>\n",
       "      <th>2</th>\n",
       "      <td>5008806</td>\n",
       "      <td>0</td>\n",
       "      <td>M</td>\n",
       "      <td>Y</td>\n",
       "      <td>Y</td>\n",
       "      <td>0</td>\n",
       "      <td>112500.0</td>\n",
       "      <td>Working</td>\n",
       "      <td>Secondary / secondary special</td>\n",
       "      <td>Married</td>\n",
       "      <td>House / apartment</td>\n",
       "      <td>-21474</td>\n",
       "      <td>-1134</td>\n",
       "      <td>1</td>\n",
       "      <td>0</td>\n",
       "      <td>0</td>\n",
       "      <td>0</td>\n",
       "      <td>Security staff</td>\n",
       "      <td>2.0</td>\n",
       "    </tr>\n",
       "    <tr>\n",
       "      <th>3</th>\n",
       "      <td>5008808</td>\n",
       "      <td>0</td>\n",
       "      <td>F</td>\n",
       "      <td>N</td>\n",
       "      <td>Y</td>\n",
       "      <td>0</td>\n",
       "      <td>270000.0</td>\n",
       "      <td>Commercial associate</td>\n",
       "      <td>Secondary / secondary special</td>\n",
       "      <td>Single / not married</td>\n",
       "      <td>House / apartment</td>\n",
       "      <td>-19110</td>\n",
       "      <td>-3051</td>\n",
       "      <td>1</td>\n",
       "      <td>0</td>\n",
       "      <td>1</td>\n",
       "      <td>1</td>\n",
       "      <td>Sales staff</td>\n",
       "      <td>1.0</td>\n",
       "    </tr>\n",
       "    <tr>\n",
       "      <th>4</th>\n",
       "      <td>5008809</td>\n",
       "      <td>0</td>\n",
       "      <td>F</td>\n",
       "      <td>N</td>\n",
       "      <td>Y</td>\n",
       "      <td>0</td>\n",
       "      <td>270000.0</td>\n",
       "      <td>Commercial associate</td>\n",
       "      <td>Secondary / secondary special</td>\n",
       "      <td>Single / not married</td>\n",
       "      <td>House / apartment</td>\n",
       "      <td>-19110</td>\n",
       "      <td>-3051</td>\n",
       "      <td>1</td>\n",
       "      <td>0</td>\n",
       "      <td>1</td>\n",
       "      <td>1</td>\n",
       "      <td>Sales staff</td>\n",
       "      <td>1.0</td>\n",
       "    </tr>\n",
       "  </tbody>\n",
       "</table>\n",
       "</div>"
      ],
      "text/plain": [
       "        ID  target Gender Car Property  NoChild    Income  \\\n",
       "0  5008804       1      M   Y        Y        0  427500.0   \n",
       "1  5008805       1      M   Y        Y        0  427500.0   \n",
       "2  5008806       0      M   Y        Y        0  112500.0   \n",
       "3  5008808       0      F   N        Y        0  270000.0   \n",
       "4  5008809       0      F   N        Y        0  270000.0   \n",
       "\n",
       "             IncomeType                      Education           MartialStat  \\\n",
       "0               Working               Higher education        Civil marriage   \n",
       "1               Working               Higher education        Civil marriage   \n",
       "2               Working  Secondary / secondary special               Married   \n",
       "3  Commercial associate  Secondary / secondary special  Single / not married   \n",
       "4  Commercial associate  Secondary / secondary special  Single / not married   \n",
       "\n",
       "         HousingType  DAYS_BIRTH  DAYS_EMPLOYED  MobilePhone  Workphone  \\\n",
       "0   Rented apartment      -12005          -4542            1          1   \n",
       "1   Rented apartment      -12005          -4542            1          1   \n",
       "2  House / apartment      -21474          -1134            1          0   \n",
       "3  House / apartment      -19110          -3051            1          0   \n",
       "4  House / apartment      -19110          -3051            1          0   \n",
       "\n",
       "   Phone  Email      Occupation  FamSize  \n",
       "0      0      0             NaN      2.0  \n",
       "1      0      0             NaN      2.0  \n",
       "2      0      0  Security staff      2.0  \n",
       "3      1      1     Sales staff      1.0  \n",
       "4      1      1     Sales staff      1.0  "
      ]
     },
     "execution_count": 6,
     "metadata": {},
     "output_type": "execute_result"
    }
   ],
   "source": [
    "# Merge Dataset\n",
    "\n",
    "dfapproval = dfcr.merge(dfapp, left_on='ID', right_on='ID')\n",
    "dfapproval.head()\n",
    "\n",
    "# Renaming Columns\n",
    "dfapproval.rename(columns={\n",
    "    'CODE_GENDER':'Gender',\n",
    "    'FLAG_OWN_CAR':'Car',\n",
    "    'FLAG_OWN_REALTY':'Property',\n",
    "    'CNT_CHILDREN':'NoChild',\n",
    "    'AMT_INCOME_TOTAL':'Income',\n",
    "    'NAME_EDUCATION_TYPE':'Education',\n",
    "    'NAME_FAMILY_STATUS':'MartialStat',\n",
    "    'NAME_HOUSING_TYPE':'HousingType',\n",
    "    'FLAG_EMAIL':'Email',\n",
    "    'NAME_INCOME_TYPE':'IncomeType',\n",
    "    'FLAG_MOBIL':'MobilePhone',\n",
    "    'FLAG_WORK_PHONE':'Workphone',\n",
    "    'FLAG_PHONE':'Phone',\n",
    "    'CNT_FAM_MEMBERS':'FamSize',\n",
    "    'OCCUPATION_TYPE':'Occupation'},inplace=True)\n",
    "\n",
    "dfapproval.head()"
   ]
  },
  {
   "cell_type": "markdown",
   "metadata": {},
   "source": [
    "## Data Cleaning\n",
    "<hr>"
   ]
  },
  {
   "cell_type": "code",
   "execution_count": 7,
   "metadata": {},
   "outputs": [
    {
     "data": {
      "text/plain": [
       "array(['Others', 'Security staff', 'Sales staff', 'Accountants',\n",
       "       'Laborers', 'Managers', 'Drivers', 'Core staff',\n",
       "       'High skill tech staff', 'Cleaning staff', 'Private service staff',\n",
       "       'Cooking staff', 'Low-skill Laborers', 'Medicine staff',\n",
       "       'Secretaries', 'Waiters/barmen staff', 'HR staff', 'Realty agents',\n",
       "       'IT staff'], dtype=object)"
      ]
     },
     "execution_count": 7,
     "metadata": {},
     "output_type": "execute_result"
    }
   ],
   "source": [
    "# Changing NAN Values of occupation type to Others\n",
    "dfapproval['Occupation'] = dfapproval['Occupation'].fillna(\"Others\")\n",
    "dfapproval['Occupation'].unique()"
   ]
  },
  {
   "cell_type": "code",
   "execution_count": 8,
   "metadata": {},
   "outputs": [
    {
     "data": {
      "text/plain": [
       "0        32\n",
       "1        32\n",
       "2        58\n",
       "3        52\n",
       "4        52\n",
       "         ..\n",
       "36452    29\n",
       "36453    29\n",
       "36454    29\n",
       "36455    29\n",
       "36456    53\n",
       "Name: Age, Length: 36457, dtype: int64"
      ]
     },
     "execution_count": 8,
     "metadata": {},
     "output_type": "execute_result"
    }
   ],
   "source": [
    "# Changing Days_Birth into Age (Years)\n",
    "dfapproval['Age'] =dfapproval['DAYS_BIRTH'].apply(lambda x : int(x/365 * -1))\n",
    "dfapproval['Age']"
   ]
  },
  {
   "cell_type": "code",
   "execution_count": 9,
   "metadata": {},
   "outputs": [
    {
     "data": {
      "text/plain": [
       "0        12\n",
       "1        12\n",
       "2         3\n",
       "3         8\n",
       "4         8\n",
       "         ..\n",
       "36452     4\n",
       "36453     4\n",
       "36454     4\n",
       "36455     4\n",
       "36456     5\n",
       "Name: LOE, Length: 36457, dtype: int64"
      ]
     },
     "execution_count": 9,
     "metadata": {},
     "output_type": "execute_result"
    }
   ],
   "source": [
    "# Changing Days_Employee into  Length of Employment (LOE) (Years)\n",
    "dfapproval['LOE'] = dfapproval['DAYS_EMPLOYED'].apply(lambda x : int(x/365 * -1))\n",
    "dfapproval['LOE']"
   ]
  },
  {
   "cell_type": "code",
   "execution_count": 10,
   "metadata": {},
   "outputs": [],
   "source": [
    "# Dropping Mobile Phone (Reason : EDA)\n",
    "dfapproval = dfapproval.drop('MobilePhone', axis=1)"
   ]
  },
  {
   "cell_type": "markdown",
   "metadata": {},
   "source": [
    "### Identifying Outliers in Numerical Data"
   ]
  },
  {
   "cell_type": "code",
   "execution_count": 11,
   "metadata": {},
   "outputs": [
    {
     "data": {
      "image/png": "[encoded data removed]",
      "text/plain": [
       "<Figure size 864x576 with 5 Axes>"
      ]
     },
     "metadata": {
      "needs_background": "light"
     },
     "output_type": "display_data"
    }
   ],
   "source": [
    "plt.figure(figsize=(12,8))\n",
    "plt.subplot(231)\n",
    "plt.boxplot(dfapproval['Age'])\n",
    "plt.title('Outlier in Age')\n",
    "\n",
    "plt.subplot(232)\n",
    "plt.boxplot(dfapproval['Income'])\n",
    "plt.title('Outlier in Income')\n",
    "\n",
    "plt.subplot(233)\n",
    "plt.boxplot(dfapproval['LOE'])\n",
    "plt.title('Outlier in LOE')\n",
    "\n",
    "plt.subplot(234)\n",
    "plt.boxplot(dfapproval['FamSize'])\n",
    "plt.title('Outlier in Famsize')\n",
    "\n",
    "plt.subplot(236)\n",
    "plt.boxplot(dfapproval['NoChild'])\n",
    "plt.title('Outlier in NoChild')\n",
    "\n",
    "plt.show()"
   ]
  },
  {
   "cell_type": "code",
   "execution_count": 12,
   "metadata": {},
   "outputs": [
    {
     "name": "stdout",
     "output_type": "stream",
     "text": [
      "Income     103500.0\n",
      "LOE             7.0\n",
      "FamSize         1.0\n",
      "NoChild         1.0\n",
      "dtype: float64\n"
     ]
    }
   ],
   "source": [
    "numdat = ['Income','LOE','FamSize','NoChild']\n",
    "Q1 = dfapproval[numdat].quantile(0.25)\n",
    "Q3 = dfapproval[numdat].quantile(0.75)\n",
    "IQR = Q3 - Q1\n",
    "print(IQR)"
   ]
  },
  {
   "cell_type": "code",
   "execution_count": 13,
   "metadata": {},
   "outputs": [
    {
     "name": "stdout",
     "output_type": "stream",
     "text": [
      "(36457, 20)\n",
      "(26518, 20)\n"
     ]
    }
   ],
   "source": [
    "dfapproval_new =dfapproval[~((dfapproval[numdat] < (Q1 - 1.5 * IQR)) |(dfapproval[numdat] > (Q3 + 1.5 * IQR))).any(axis=1)].copy()\n",
    "print(dfapproval.shape)\n",
    "print(dfapproval_new.shape)"
   ]
  },
  {
   "cell_type": "code",
   "execution_count": 16,
   "metadata": {},
   "outputs": [
    {
     "name": "stdout",
     "output_type": "stream",
     "text": [
      "(4291, 20)\n",
      "(3178, 20)\n"
     ]
    }
   ],
   "source": [
    "print(dfapproval[dfapproval['target']==1].shape)\n",
    "print(dfapproval_new[dfapproval_new['target']==1].shape)"
   ]
  },
  {
   "cell_type": "markdown",
   "metadata": {},
   "source": [
    "###  Handling Categorical Data"
   ]
  },
  {
   "cell_type": "code",
   "execution_count": 17,
   "metadata": {},
   "outputs": [],
   "source": [
    "dfapproval_new['Gender'] = dfapproval_new['Gender'].apply(lambda x: 1 if x == 'M' else 0 )\n",
    "dfapproval_new['Car'] = dfapproval_new['Car'].apply(lambda x: 1 if x == 'Y' else 0 )\n",
    "dfapproval_new['Property'] = dfapproval_new['Property'].apply(lambda x: 1 if x == 'Y' else 0 )"
   ]
  },
  {
   "cell_type": "code",
   "execution_count": 18,
   "metadata": {},
   "outputs": [],
   "source": [
    "# Dummies for Categorical Data\n",
    "categorical = ['IncomeType','Education','MartialStat','HousingType','Occupation']\n",
    "dfdummy = pd.get_dummies(dfapproval_new[categorical])"
   ]
  },
  {
   "cell_type": "markdown",
   "metadata": {},
   "source": [
    "### Split Dataset"
   ]
  },
  {
   "cell_type": "code",
   "execution_count": 19,
   "metadata": {},
   "outputs": [
    {
     "data": {
      "text/plain": [
       "(26518, 51)"
      ]
     },
     "execution_count": 19,
     "metadata": {},
     "output_type": "execute_result"
    }
   ],
   "source": [
    "dffeaturex = pd.concat([dfapproval_new[['Gender','Car','Property','NoChild','Income','Age','LOE','Workphone','Phone','Email','FamSize']],dfdummy],\n",
    "                      axis='columns')\n",
    "dffeaturey = dfapproval_new['target']\n",
    "dffeaturex.shape"
   ]
  },
  {
   "cell_type": "code",
   "execution_count": 20,
   "metadata": {},
   "outputs": [],
   "source": [
    "xtr, xts, ytr, yts = train_test_split(dffeaturex,dffeaturey, test_size = 0.2)\n",
    "dftrain = pd.concat([xtr,ytr], axis=1)\n",
    "dftes = pd.concat([xts,yts], axis=1)"
   ]
  },
  {
   "cell_type": "markdown",
   "metadata": {},
   "source": [
    "## ML Models\n",
    "<hr>"
   ]
  },
  {
   "cell_type": "markdown",
   "metadata": {},
   "source": [
    "Model Machine Learning yang digunakan merupakan __Model _Classification___\n",
    "\n",
    "Model ML: \n",
    "- Logistic Regression\n",
    "- K-Nearest Neighbors\n",
    "- DecisionTree\n",
    "- Random Forest\n",
    "- Gradient Boosting classifier"
   ]
  },
  {
   "cell_type": "code",
   "execution_count": 52,
   "metadata": {},
   "outputs": [],
   "source": [
    "from sklearn.metrics import classification_report, confusion_matrix, roc_curve, accuracy_score, recall_score, auc, log_loss, roc_auc_score, f1_score, matthews_corrcoef"
   ]
  },
  {
   "cell_type": "markdown",
   "metadata": {},
   "source": [
    "### Logistic Regression"
   ]
  },
  {
   "cell_type": "code",
   "execution_count": 21,
   "metadata": {},
   "outputs": [],
   "source": [
    "from sklearn.linear_model import LogisticRegression\n",
    "MLLR = LogisticRegression()"
   ]
  },
  {
   "cell_type": "code",
   "execution_count": 22,
   "metadata": {},
   "outputs": [
    {
     "data": {
      "text/plain": [
       "LogisticRegression(C=1.0, class_weight=None, dual=False, fit_intercept=True,\n",
       "                   intercept_scaling=1, l1_ratio=None, max_iter=100,\n",
       "                   multi_class='auto', n_jobs=None, penalty='l2',\n",
       "                   random_state=None, solver='lbfgs', tol=0.0001, verbose=0,\n",
       "                   warm_start=False)"
      ]
     },
     "execution_count": 22,
     "metadata": {},
     "output_type": "execute_result"
    }
   ],
   "source": [
    "MLLR.fit(xtr,ytr)"
   ]
  },
  {
   "cell_type": "code",
   "execution_count": 64,
   "metadata": {},
   "outputs": [
    {
     "name": "stdout",
     "output_type": "stream",
     "text": [
      "[0 0 0 ... 0 0 0]\n",
      "Accuracy Score (training) = 0.8804091637597813\n",
      "Accuracy Score (test) = 0.8791478129713424\n",
      "Logistic Regression Base Report\n",
      "              precision    recall  f1-score   support\n",
      "\n",
      "           0       0.88      1.00      0.94      4663\n",
      "           1       0.00      0.00      0.00       641\n",
      "\n",
      "    accuracy                           0.88      5304\n",
      "   macro avg       0.44      0.50      0.47      5304\n",
      "weighted avg       0.77      0.88      0.82      5304\n",
      "\n",
      "          Pred 0  Pred 1\n",
      "Actual 0    4663       0\n",
      "Actual 1     641       0\n",
      "\n",
      "\n"
     ]
    },
    {
     "name": "stderr",
     "output_type": "stream",
     "text": [
      "c:\\users\\user\\appdata\\local\\programs\\python\\python38\\lib\\site-packages\\sklearn\\metrics\\_classification.py:1272: UndefinedMetricWarning: Precision and F-score are ill-defined and being set to 0.0 in labels with no predicted samples. Use `zero_division` parameter to control this behavior.\n",
      "  _warn_prf(average, modifier, msg_start, len(result))\n"
     ]
    }
   ],
   "source": [
    "# Base Score LR\n",
    "yp = MLLR.predict(xts)\n",
    "print(yp)\n",
    "print(f'Base Score (training) = {MLLR.score(xtr,ytr)}')\n",
    "print(f'Base Score (test) = {MLLR.score(xts,yts)}')\n",
    "\n",
    "print('Logistic Regression Base Report')\n",
    "print(classification_report(yts, yp))\n",
    "cm = confusion_matrix(yts, yp,  labels= [0,1])\n",
    "dfcm = pd.DataFrame(\n",
    "    cm, columns=['Pred 0','Pred 1'], index= ['Actual 0', 'Actual 1']\n",
    ")\n",
    "print(dfcm)\n",
    "print('\\n')"
   ]
  },
  {
   "cell_type": "markdown",
   "metadata": {},
   "source": [
    "### Decision Tree"
   ]
  },
  {
   "cell_type": "code",
   "execution_count": 29,
   "metadata": {},
   "outputs": [],
   "source": [
    "from sklearn.tree import DecisionTreeClassifier, plot_tree, export_graphviz\n",
    "\n",
    "MLDT = DecisionTreeClassifier()"
   ]
  },
  {
   "cell_type": "code",
   "execution_count": 30,
   "metadata": {},
   "outputs": [
    {
     "data": {
      "text/plain": [
       "DecisionTreeClassifier(ccp_alpha=0.0, class_weight=None, criterion='gini',\n",
       "                       max_depth=None, max_features=None, max_leaf_nodes=None,\n",
       "                       min_impurity_decrease=0.0, min_impurity_split=None,\n",
       "                       min_samples_leaf=1, min_samples_split=2,\n",
       "                       min_weight_fraction_leaf=0.0, presort='deprecated',\n",
       "                       random_state=None, splitter='best')"
      ]
     },
     "execution_count": 30,
     "metadata": {},
     "output_type": "execute_result"
    }
   ],
   "source": [
    "MLDT .fit(xtr,ytr)"
   ]
  },
  {
   "cell_type": "code",
   "execution_count": 70,
   "metadata": {},
   "outputs": [
    {
     "name": "stdout",
     "output_type": "stream",
     "text": [
      "[0 0 0 ... 0 0 0]\n",
      "Accuracy Score (training) = 0.9312246629584237\n",
      "Accuracy Score (test) = 0.8787707390648567\n",
      "Decision Tree Base Report\n",
      "              precision    recall  f1-score   support\n",
      "\n",
      "           0       0.91      0.96      0.93      4663\n",
      "           1       0.50      0.28      0.36       641\n",
      "\n",
      "    accuracy                           0.88      5304\n",
      "   macro avg       0.70      0.62      0.65      5304\n",
      "weighted avg       0.86      0.88      0.86      5304\n",
      "\n",
      "          Pred 0  Pred 1\n",
      "Actual 0    4482     181\n",
      "Actual 1     462     179\n",
      "\n",
      "\n"
     ]
    }
   ],
   "source": [
    "# Base Score DT\n",
    "yp = MLDT.predict(xts)\n",
    "print(yp)\n",
    "print(f'Base Score (training) = {MLDT.score(xtr,ytr)}')\n",
    "print(f'Base Score (test) = {MLDT.score(xts,yts)}')\n",
    "\n",
    "print('Decision Tree Base Report')\n",
    "print(classification_report(yts, yp))\n",
    "cm = confusion_matrix(yts, yp,  labels= [0,1])\n",
    "dfcm = pd.DataFrame(\n",
    "    cm, columns=['Pred 0','Pred 1'], index= ['Actual 0', 'Actual 1']\n",
    ")\n",
    "print(dfcm)\n",
    "print('\\n')"
   ]
  },
  {
   "cell_type": "markdown",
   "metadata": {},
   "source": [
    "### K-Nearest Neighbors (KNN)"
   ]
  },
  {
   "cell_type": "code",
   "execution_count": 32,
   "metadata": {},
   "outputs": [
    {
     "data": {
      "text/plain": [
       "145"
      ]
     },
     "execution_count": 32,
     "metadata": {},
     "output_type": "execute_result"
    }
   ],
   "source": [
    "def k(x) :\n",
    "    k = int(np.sqrt(x))\n",
    "    if k % 2 == 0:\n",
    "        k += 1\n",
    "        return k\n",
    "    else :\n",
    "        return k\n",
    "    \n",
    "k(len(xtr))"
   ]
  },
  {
   "cell_type": "code",
   "execution_count": 33,
   "metadata": {},
   "outputs": [],
   "source": [
    "from sklearn.neighbors import KNeighborsClassifier\n",
    "MLKN = KNeighborsClassifier()"
   ]
  },
  {
   "cell_type": "code",
   "execution_count": 34,
   "metadata": {},
   "outputs": [
    {
     "data": {
      "text/plain": [
       "KNeighborsClassifier(algorithm='auto', leaf_size=30, metric='minkowski',\n",
       "                     metric_params=None, n_jobs=None, n_neighbors=5, p=2,\n",
       "                     weights='uniform')"
      ]
     },
     "execution_count": 34,
     "metadata": {},
     "output_type": "execute_result"
    }
   ],
   "source": [
    "MLKN.fit(xtr,ytr)"
   ]
  },
  {
   "cell_type": "code",
   "execution_count": 69,
   "metadata": {},
   "outputs": [
    {
     "name": "stdout",
     "output_type": "stream",
     "text": [
      "[0 0 0 ... 0 0 0]\n",
      "Accuracy Score (training) = 0.9036485339869897\n",
      "Accuracy Score (test) = 0.8734917043740573\n",
      "KNN Base Report\n",
      "              precision    recall  f1-score   support\n",
      "\n",
      "           0       0.90      0.97      0.93      4663\n",
      "           1       0.44      0.18      0.26       641\n",
      "\n",
      "    accuracy                           0.87      5304\n",
      "   macro avg       0.67      0.57      0.59      5304\n",
      "weighted avg       0.84      0.87      0.85      5304\n",
      "\n",
      "[[4517  146]\n",
      " [ 525  116]]\n",
      "          Pred 0  Pred 1\n",
      "Actual 0    4518     145\n",
      "Actual 1     466     175\n",
      "\n",
      "\n"
     ]
    }
   ],
   "source": [
    "# Base Score KNN\n",
    "yp = MLKN.predict(xts)\n",
    "print(yp)\n",
    "print(f'Base Score (training) = {MLKN.score(xtr,ytr)}')\n",
    "print(f'Base Score (test) = {MLKN.score(xts,yts)}')\n",
    "\n",
    "print('KNN Base Report')\n",
    "print(classification_report(yts, yp))\n",
    "print(confusion_matrix(yts, yp))\n",
    "print(dfcm)\n",
    "print('\\n')"
   ]
  },
  {
   "cell_type": "markdown",
   "metadata": {},
   "source": [
    "### Random Forest"
   ]
  },
  {
   "cell_type": "code",
   "execution_count": 39,
   "metadata": {},
   "outputs": [],
   "source": [
    "from sklearn.ensemble import RandomForestClassifier\n",
    "\n",
    "MLRF = RandomForestClassifier()"
   ]
  },
  {
   "cell_type": "code",
   "execution_count": 40,
   "metadata": {},
   "outputs": [
    {
     "data": {
      "text/plain": [
       "RandomForestClassifier(bootstrap=True, ccp_alpha=0.0, class_weight=None,\n",
       "                       criterion='gini', max_depth=None, max_features='auto',\n",
       "                       max_leaf_nodes=None, max_samples=None,\n",
       "                       min_impurity_decrease=0.0, min_impurity_split=None,\n",
       "                       min_samples_leaf=1, min_samples_split=2,\n",
       "                       min_weight_fraction_leaf=0.0, n_estimators=100,\n",
       "                       n_jobs=None, oob_score=False, random_state=None,\n",
       "                       verbose=0, warm_start=False)"
      ]
     },
     "execution_count": 40,
     "metadata": {},
     "output_type": "execute_result"
    }
   ],
   "source": [
    "MLRF.fit(xtr,ytr)"
   ]
  },
  {
   "cell_type": "code",
   "execution_count": 68,
   "metadata": {},
   "outputs": [
    {
     "name": "stdout",
     "output_type": "stream",
     "text": [
      "[0 0 0 ... 0 0 0]\n",
      "Accuracy Score (training) = 0.9312246629584237\n",
      "Accuracy Score (test) = 0.8848039215686274\n",
      "Random Forest Base Report\n",
      "              precision    recall  f1-score   support\n",
      "\n",
      "           0       0.91      0.97      0.94      4663\n",
      "           1       0.55      0.27      0.36       641\n",
      "\n",
      "    accuracy                           0.88      5304\n",
      "   macro avg       0.73      0.62      0.65      5304\n",
      "weighted avg       0.86      0.88      0.87      5304\n",
      "\n",
      "          Pred 0  Pred 1\n",
      "Actual 0    4518     145\n",
      "Actual 1     466     175\n",
      "\n",
      "\n"
     ]
    }
   ],
   "source": [
    "# Base Score RF\n",
    "yp = MLRF.predict(xts)\n",
    "print(yp)\n",
    "print(f'Base Score (training) = {MLRF.score(xtr,ytr)}')\n",
    "print(f'Base Score (test) = {MLRF.score(xts,yts)}')\n",
    "\n",
    "print('Random Forest Base Report')\n",
    "print(classification_report(yts, yp))\n",
    "cm = confusion_matrix(yts, yp,  labels= [0,1])\n",
    "dfcm = pd.DataFrame(\n",
    "    cm, columns=['Pred 0','Pred 1'], index= ['Actual 0', 'Actual 1']\n",
    ")\n",
    "print(dfcm)\n",
    "print('\\n')"
   ]
  },
  {
   "cell_type": "markdown",
   "metadata": {},
   "source": [
    "### Gradient Boosting Clasifier"
   ]
  },
  {
   "cell_type": "code",
   "execution_count": 42,
   "metadata": {},
   "outputs": [],
   "source": [
    "from sklearn.ensemble import GradientBoostingClassifier\n"
   ]
  },
  {
   "cell_type": "code",
   "execution_count": 44,
   "metadata": {},
   "outputs": [
    {
     "data": {
      "text/plain": [
       "GradientBoostingClassifier(ccp_alpha=0.0, criterion='friedman_mse', init=None,\n",
       "                           learning_rate=0.1, loss='deviance', max_depth=3,\n",
       "                           max_features=None, max_leaf_nodes=None,\n",
       "                           min_impurity_decrease=0.0, min_impurity_split=None,\n",
       "                           min_samples_leaf=1, min_samples_split=2,\n",
       "                           min_weight_fraction_leaf=0.0, n_estimators=100,\n",
       "                           n_iter_no_change=None, presort='deprecated',\n",
       "                           random_state=None, subsample=1.0, tol=0.0001,\n",
       "                           validation_fraction=0.1, verbose=0,\n",
       "                           warm_start=False)"
      ]
     },
     "execution_count": 44,
     "metadata": {},
     "output_type": "execute_result"
    }
   ],
   "source": [
    "MLGB = GradientBoostingClassifier()\n",
    "MLGB.fit(xtr, ytr)"
   ]
  },
  {
   "cell_type": "code",
   "execution_count": 71,
   "metadata": {},
   "outputs": [
    {
     "name": "stdout",
     "output_type": "stream",
     "text": [
      "[0 0 0 ... 0 0 0]\n",
      "Base Score (training) = 0.88172904685585\n",
      "Base Score (test) = 0.8799019607843137\n",
      "Gradient Boosting Base Report\n",
      "              precision    recall  f1-score   support\n",
      "\n",
      "           0       0.88      1.00      0.94      4663\n",
      "           1       0.83      0.01      0.02       641\n",
      "\n",
      "    accuracy                           0.88      5304\n",
      "   macro avg       0.86      0.50      0.48      5304\n",
      "weighted avg       0.87      0.88      0.82      5304\n",
      "\n",
      "          Pred 0  Pred 1\n",
      "Actual 0    4662       1\n",
      "Actual 1     636       5\n",
      "\n",
      "\n"
     ]
    }
   ],
   "source": [
    "# Base Score GB\n",
    "yp = MLGB.predict(xts)\n",
    "print(yp)\n",
    "print(f'Base Score (training) = {MLGB.score(xtr,ytr)}')\n",
    "print(f'Base Score (test) = {MLGB.score(xts,yts)}')\n",
    "print(f'BACC Score (test) = {MLGB.score(xts,yts)}')\n",
    "\n",
    "print('Gradient Boosting Base Report')\n",
    "print(classification_report(yts, yp))\n",
    "cm = confusion_matrix(yts, yp,  labels= [0,1])\n",
    "dfcm = pd.DataFrame(\n",
    "    cm, columns=['Pred 0','Pred 1'], index= ['Actual 0', 'Actual 1']\n",
    ")\n",
    "print(dfcm)\n",
    "print('\\n')"
   ]
  },
  {
   "cell_type": "markdown",
   "metadata": {},
   "source": [
    "### Balanced Accuracy Score"
   ]
  },
  {
   "cell_type": "code",
   "execution_count": 99,
   "metadata": {},
   "outputs": [],
   "source": [
    "from sklearn.metrics import balanced_accuracy_score\n",
    "\n",
    "def BAC(model, title):\n",
    "    bac = balanced_accuracy_score(yts,model.predict(xts))\n",
    "    print(f'Balanced Accuracy Score {title} = {bac}')\n",
    "    print('\\n')"
   ]
  },
  {
   "cell_type": "code",
   "execution_count": 100,
   "metadata": {},
   "outputs": [
    {
     "name": "stdout",
     "output_type": "stream",
     "text": [
      "Balanced Accuracy Score Logistic Regression = 0.5\n",
      "\n",
      "\n",
      "Balanced Accuracy Score Decision Tree = 0.6202174786541108\n",
      "\n",
      "\n",
      "Balanced Accuracy Score K-Nearest Neighbor = 0.5748284617209265\n",
      "\n",
      "\n",
      "Balanced Accuracy Score Random Forest = 0.620957529701574\n",
      "\n",
      "\n",
      "Balanced Accuracy Score Gradient Boosting = 0.5037929288992276\n",
      "\n",
      "\n"
     ]
    }
   ],
   "source": [
    "# Balanced Accuracy Score\n",
    "BAC(MLLR,'Logistic Regression')\n",
    "BAC(MLDT,'Decision Tree')\n",
    "BAC(MLKN,'K-Nearest Neighbor')\n",
    "BAC(MLRF,'Random Forest')\n",
    "BAC(MLGB,'Gradient Boosting')"
   ]
  },
  {
   "cell_type": "markdown",
   "metadata": {},
   "source": [
    "### ROC AUC"
   ]
  },
  {
   "cell_type": "code",
   "execution_count": 72,
   "metadata": {},
   "outputs": [],
   "source": [
    "from sklearn.metrics import roc_curve, roc_auc_score"
   ]
  },
  {
   "cell_type": "code",
   "execution_count": 93,
   "metadata": {},
   "outputs": [],
   "source": [
    "def ROC(model,title):\n",
    "    fpr, tpr, thres = roc_curve(yts, model.predict_proba(xts)[:,1])\n",
    "    roc_auc_score(yts,yp)\n",
    "    plt.plot(fpr, tpr)\n",
    "    plt.plot([0,1], [0,1], 'r:')\n",
    "    plt.xlabel('False Positive rate')\n",
    "    plt.ylabel('True Positive rate')\n",
    "    plt.title(f'ROC {title}')\n",
    "\n",
    "def AUC(model, title):\n",
    "    auc = roc_auc_score(yts,model.predict(xts))\n",
    "    print(f'ROC AUC Score {title} = {auc}')\n",
    "    print('\\n')\n",
    "    "
   ]
  },
  {
   "cell_type": "code",
   "execution_count": 94,
   "metadata": {},
   "outputs": [
    {
     "data": {
      "image/png": "[encoded data removed]",
      "text/plain": [
       "<Figure size 1440x288 with 5 Axes>"
      ]
     },
     "metadata": {
      "needs_background": "light"
     },
     "output_type": "display_data"
    }
   ],
   "source": [
    "plt.figure(figsize=(20,4))\n",
    "\n",
    "plt.subplot(151)\n",
    "ROC(MLLR,'Logistic Regression')\n",
    "\n",
    "plt.subplot(152)\n",
    "ROC(MLDT,'Decision Tree')\n",
    "\n",
    "plt.subplot(153)\n",
    "ROC(MLKN,'K-Nearest Neighbor')\n",
    "\n",
    "plt.subplot(154)\n",
    "ROC(MLRF,'Random Forest')\n",
    "\n",
    "plt.subplot(155)\n",
    "ROC(MLGB,'Gradient Boosting')\n",
    "\n",
    "plt.show()\n"
   ]
  },
  {
   "cell_type": "code",
   "execution_count": 101,
   "metadata": {},
   "outputs": [
    {
     "name": "stdout",
     "output_type": "stream",
     "text": [
      "ROC AUC Score Logistic Regression = 0.5\n",
      "\n",
      "\n",
      "ROC AUC Score Decision Tree = 0.6202174786541108\n",
      "\n",
      "\n",
      "ROC AUC Score K-Nearest Neighbor = 0.5748284617209265\n",
      "\n",
      "\n",
      "ROC AUC Score Random Forest = 0.620957529701574\n",
      "\n",
      "\n",
      "ROC AUC Score Gradient Boosting = 0.5037929288992277\n",
      "\n",
      "\n"
     ]
    }
   ],
   "source": [
    "#AUC Score\n",
    "AUC(MLLR,'Logistic Regression')\n",
    "AUC(MLDT,'Decision Tree')\n",
    "AUC(MLKN,'K-Nearest Neighbor')\n",
    "AUC(MLRF,'Random Forest')\n",
    "AUC(MLGB,'Gradient Boosting')"
   ]
  },
  {
   "cell_type": "markdown",
   "metadata": {},
   "source": [
    "# Precision Recall Curve"
   ]
  },
  {
   "cell_type": "code",
   "execution_count": 118,
   "metadata": {},
   "outputs": [],
   "source": [
    "from sklearn.metrics import precision_recall_curve\n",
    "from sklearn.metrics import plot_precision_recall_curve\n",
    "\n",
    "def PR (model,title) :\n",
    "    pr = plot_precision_recall_curve(model, xts, yts)\n",
    "    pr.ax_.set_title(f' Precision-Recall curve {title} ')"
   ]
  },
  {
   "cell_type": "code",
   "execution_count": 119,
   "metadata": {},
   "outputs": [
    {
     "data": {
      "image/png": "[encoded data removed]",
      "text/plain": [
       "<Figure size 432x288 with 1 Axes>"
      ]
     },
     "metadata": {
      "needs_background": "light"
     },
     "output_type": "display_data"
    },
    {
     "data": {
      "image/png": "[encoded data removed]",
      "text/plain": [
       "<Figure size 432x288 with 1 Axes>"
      ]
     },
     "metadata": {
      "needs_background": "light"
     },
     "output_type": "display_data"
    },
    {
     "data": {
      "image/png": "[encoded data removed]",
      "text/plain": [
       "<Figure size 432x288 with 1 Axes>"
      ]
     },
     "metadata": {
      "needs_background": "light"
     },
     "output_type": "display_data"
    },
    {
     "data": {
      "image/png": "[encoded data removed]",
      "text/plain": [
       "<Figure size 432x288 with 1 Axes>"
      ]
     },
     "metadata": {
      "needs_background": "light"
     },
     "output_type": "display_data"
    },
    {
     "data": {
      "image/png": "[encoded data removed]",
      "text/plain": [
       "<Figure size 432x288 with 1 Axes>"
      ]
     },
     "metadata": {
      "needs_background": "light"
     },
     "output_type": "display_data"
    }
   ],
   "source": [
    "PR(MLLR,'Logistic Regression')\n",
    "PR(MLDT,'Decision Tree')\n",
    "PR(MLKN,'K-Nearest Neighbor')\n",
    "PR(MLRF,'Random Forest')\n",
    "PR(MLGB,'Gradient Boosting')"
   ]
  },
  {
   "cell_type": "markdown",
   "metadata": {},
   "source": [
    "From the test, we can conclude that either Random Forest or Decision Tree model give the best result ( ROC AUC SCORE, Precision, Recall, BACC)\n",
    "\n",
    "For futher improvement, we will check how optimum can this two model reach with HyperparameterTuning ( Grid Search CV)"
   ]
  },
  {
   "cell_type": "markdown",
   "metadata": {},
   "source": [
    "### Hyperparameter Tuning (Grid Search CV)"
   ]
  },
  {
   "cell_type": "code",
   "execution_count": 124,
   "metadata": {},
   "outputs": [],
   "source": [
    "from sklearn.model_selection import GridSearchCV\n",
    "\n",
    "paramRF = {\n",
    "    'max_depth' : [5, 15, 25, None],\n",
    "    'min_samples_split' : [2, 5, 10],\n",
    "    'min_samples_leaf' : [1, 3, 6, 9],\n",
    "    'n_estimators': [100, 200, 300],\n",
    "    'class_weight' : [{0:1, 1:2},{0:1, 1:3},{0:1, 1:5}]}\n"
   ]
  },
  {
   "cell_type": "code",
   "execution_count": 126,
   "metadata": {},
   "outputs": [
    {
     "name": "stdout",
     "output_type": "stream",
     "text": [
      "{'class_weight': {0: 1, 1: 5}, 'max_depth': None, 'min_samples_leaf': 1, 'min_samples_split': 2, 'n_estimators': 100}\n",
      "0.4199459696065423\n"
     ]
    }
   ],
   "source": [
    "# F1-score\n",
    "\n",
    "GSCV1 = GridSearchCV(\n",
    "    MLRF,\n",
    "    param_grid = paramRF,\n",
    "    scoring='f1', \n",
    "    cv=5, \n",
    "    n_jobs = -1)\n",
    "\n",
    "GSCV1.fit(xtr, ytr)\n",
    "print(GSCV1.best_params_)\n",
    "print(GSCV1.best_score_)"
   ]
  },
  {
   "cell_type": "code",
   "execution_count": 129,
   "metadata": {},
   "outputs": [
    {
     "name": "stdout",
     "output_type": "stream",
     "text": [
      "GSCV F1 Score Report\n",
      "              precision    recall  f1-score   support\n",
      "\n",
      "           0       0.93      0.91      0.92      4663\n",
      "           1       0.42      0.50      0.46       641\n",
      "\n",
      "    accuracy                           0.86      5304\n",
      "   macro avg       0.68      0.70      0.69      5304\n",
      "weighted avg       0.87      0.86      0.86      5304\n",
      "\n",
      "          Pred 0  Pred 1\n",
      "Actual 0    4232     431\n",
      "Actual 1     323     318\n",
      "\n",
      "\n",
      "Balanced Accuracy Score GSCV1 = 0.7018350388744266\n",
      "\n",
      "\n"
     ]
    },
    {
     "data": {
      "image/png": "[encoded data removed]",
      "text/plain": [
       "<Figure size 432x288 with 1 Axes>"
      ]
     },
     "metadata": {
      "needs_background": "light"
     },
     "output_type": "display_data"
    },
    {
     "name": "stdout",
     "output_type": "stream",
     "text": [
      "ROC AUC Score GSCV1 = 0.7018350388744266\n",
      "\n",
      "\n"
     ]
    },
    {
     "data": {
      "image/png": "[encoded data removed]",
      "text/plain": [
       "<Figure size 432x288 with 1 Axes>"
      ]
     },
     "metadata": {
      "needs_background": "light"
     },
     "output_type": "display_data"
    }
   ],
   "source": [
    "MLRF1B = RandomForestClassifier(\n",
    "    max_depth = None,\n",
    "    min_samples_split = 2,\n",
    "    min_samples_leaf = 1,\n",
    "    n_estimators = 100,\n",
    "    class_weight = {0: 1, 1: 5}\n",
    ")\n",
    "MLRF1B.fit(xtr,ytr)\n",
    "\n",
    "print('GSCV F1 Score Report')\n",
    "print(classification_report(yts, MLRF1B.predict(xts)))\n",
    "cm = confusion_matrix(yts, MLRF1B.predict(xts),  labels= [0,1])\n",
    "dfcm = pd.DataFrame(\n",
    "    cm, columns=['Pred 0','Pred 1'], index= ['Actual 0', 'Actual 1']\n",
    ")\n",
    "print(dfcm)\n",
    "print('\\n')\n",
    "\n",
    "BAC(MLRF1B,'GSCV1')\n",
    "\n",
    "ROC(MLRF1B,'GSCV1')\n",
    "plt.show()\n",
    "\n",
    "AUC(MLRF1B,'GSCV1')\n",
    "\n",
    "PR(MLRF1B,'GSCV1')"
   ]
  },
  {
   "cell_type": "code",
   "execution_count": 130,
   "metadata": {},
   "outputs": [
    {
     "name": "stdout",
     "output_type": "stream",
     "text": [
      "{'class_weight': {0: 1, 1: 2}, 'max_depth': None, 'min_samples_leaf': 1, 'min_samples_split': 2, 'n_estimators': 300}\n",
      "0.7758210418210141\n"
     ]
    }
   ],
   "source": [
    "# ROC AUC\n",
    "\n",
    "GSCV2 = GridSearchCV(\n",
    "    MLRF,\n",
    "    param_grid = paramRF, \n",
    "    scoring='roc_auc', \n",
    "    cv=5, \n",
    "    n_jobs = -1)\n",
    "\n",
    "GSCV2.fit(xtr, ytr)\n",
    "print(GSCV2.best_params_)\n",
    "print(GSCV2.best_score_)"
   ]
  },
  {
   "cell_type": "code",
   "execution_count": 131,
   "metadata": {},
   "outputs": [
    {
     "name": "stdout",
     "output_type": "stream",
     "text": [
      "GSCV F1 Score Report\n",
      "              precision    recall  f1-score   support\n",
      "\n",
      "           0       0.92      0.95      0.93      4663\n",
      "           1       0.50      0.39      0.44       641\n",
      "\n",
      "    accuracy                           0.88      5304\n",
      "   macro avg       0.71      0.67      0.68      5304\n",
      "weighted avg       0.87      0.88      0.87      5304\n",
      "\n",
      "          Pred 0  Pred 1\n",
      "Actual 0    4407     256\n",
      "Actual 1     390     251\n",
      "\n",
      "\n",
      "Balanced Accuracy Score GSCV2 = 0.6683376921180214\n",
      "\n",
      "\n"
     ]
    },
    {
     "data": {
      "image/png": "[encoded data removed]",
      "text/plain": [
       "<Figure size 432x288 with 1 Axes>"
      ]
     },
     "metadata": {
      "needs_background": "light"
     },
     "output_type": "display_data"
    },
    {
     "name": "stdout",
     "output_type": "stream",
     "text": [
      "ROC AUC Score GSCV2 = 0.6683376921180215\n",
      "\n",
      "\n"
     ]
    },
    {
     "data": {
      "image/png": "[encoded data removed]",
      "text/plain": [
       "<Figure size 432x288 with 1 Axes>"
      ]
     },
     "metadata": {
      "needs_background": "light"
     },
     "output_type": "display_data"
    }
   ],
   "source": [
    "MLRF2B = RandomForestClassifier(\n",
    "    max_depth = None,\n",
    "    min_samples_split = 2,\n",
    "    min_samples_leaf = 1,\n",
    "    n_estimators = 300,\n",
    "    class_weight = {0: 1, 1: 2}\n",
    ")\n",
    "MLRF2B.fit(xtr,ytr)\n",
    "\n",
    "print('GSCV ROC AUC Score Report')\n",
    "print(classification_report(yts, MLRF2B.predict(xts)))\n",
    "cm = confusion_matrix(yts, MLRF2B.predict(xts),  labels= [0,1])\n",
    "dfcm = pd.DataFrame(\n",
    "    cm, columns=['Pred 0','Pred 1'], index= ['Actual 0', 'Actual 1']\n",
    ")\n",
    "print(dfcm)\n",
    "print('\\n')\n",
    "\n",
    "BAC(MLRF2B,'GSCV2')\n",
    "\n",
    "ROC(MLRF2B,'GSCV2')\n",
    "plt.show()\n",
    "\n",
    "AUC(MLRF2B,'GSCV2')\n",
    "\n",
    "PR(MLRF2B,'GSCV2')"
   ]
  },
  {
   "cell_type": "code",
   "execution_count": null,
   "metadata": {},
   "outputs": [],
   "source": [
    "# Precision Recall\n",
    "\n",
    "GSCV3 = GridSearchCV(\n",
    "    MLRF,\n",
    "    param_grid = paramRF, \n",
    "    scoring=['precision', 'recall'], \n",
    "    cv=5, \n",
    "    n_jobs = -1)\n",
    "\n",
    "GSCV2.fit(xtr, ytr)\n",
    "print(GSCV2.best_params_)\n",
    "print(GSCV2.best_score_)"
   ]
  }
 ],
 "metadata": {
  "kernelspec": {
   "display_name": "Python 3",
   "language": "python",
   "name": "python3"
  },
  "language_info": {
   "codemirror_mode": {
    "name": "ipython",
    "version": 3
   },
   "file_extension": ".py",
   "mimetype": "text/x-python",
   "name": "python",
   "nbconvert_exporter": "python",
   "pygments_lexer": "ipython3",
   "version": "3.8.1"
  }
 },
 "nbformat": 4,
 "nbformat_minor": 4
}
