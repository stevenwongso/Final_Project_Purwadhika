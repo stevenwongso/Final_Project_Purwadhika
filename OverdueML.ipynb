{
 "cells": [
  {
   "cell_type": "code",
   "execution_count": 6,
   "metadata": {},
   "outputs": [],
   "source": [
    "import numpy as np\n",
    "import pandas as pd\n",
    "import matplotlib.pyplot as plt\n",
    "from sklearn.model_selection import train_test_split"
   ]
  },
  {
   "cell_type": "markdown",
   "metadata": {},
   "source": [
    "# Model Machine Learning : Credit Card Overdue Prediction\n",
    "\n",
    "<hr>"
   ]
  },
  {
   "cell_type": "markdown",
   "metadata": {},
   "source": [
    "## Dataset\n",
    "\n",
    "<hr>"
   ]
  },
  {
   "cell_type": "code",
   "execution_count": 2,
   "metadata": {},
   "outputs": [
    {
     "data": {
      "text/html": [
       "<div>\n",
       "<style scoped>\n",
       "    .dataframe tbody tr th:only-of-type {\n",
       "        vertical-align: middle;\n",
       "    }\n",
       "\n",
       "    .dataframe tbody tr th {\n",
       "        vertical-align: top;\n",
       "    }\n",
       "\n",
       "    .dataframe thead th {\n",
       "        text-align: right;\n",
       "    }\n",
       "</style>\n",
       "<table border=\"1\" class=\"dataframe\">\n",
       "  <thead>\n",
       "    <tr style=\"text-align: right;\">\n",
       "      <th></th>\n",
       "      <th>ID</th>\n",
       "      <th>CODE_GENDER</th>\n",
       "      <th>FLAG_OWN_CAR</th>\n",
       "      <th>FLAG_OWN_REALTY</th>\n",
       "      <th>CNT_CHILDREN</th>\n",
       "      <th>AMT_INCOME_TOTAL</th>\n",
       "      <th>NAME_INCOME_TYPE</th>\n",
       "      <th>NAME_EDUCATION_TYPE</th>\n",
       "      <th>NAME_FAMILY_STATUS</th>\n",
       "      <th>NAME_HOUSING_TYPE</th>\n",
       "      <th>DAYS_BIRTH</th>\n",
       "      <th>DAYS_EMPLOYED</th>\n",
       "      <th>FLAG_MOBIL</th>\n",
       "      <th>FLAG_WORK_PHONE</th>\n",
       "      <th>FLAG_PHONE</th>\n",
       "      <th>FLAG_EMAIL</th>\n",
       "      <th>OCCUPATION_TYPE</th>\n",
       "      <th>CNT_FAM_MEMBERS</th>\n",
       "    </tr>\n",
       "  </thead>\n",
       "  <tbody>\n",
       "    <tr>\n",
       "      <th>0</th>\n",
       "      <td>5008804</td>\n",
       "      <td>M</td>\n",
       "      <td>Y</td>\n",
       "      <td>Y</td>\n",
       "      <td>0</td>\n",
       "      <td>427500.0</td>\n",
       "      <td>Working</td>\n",
       "      <td>Higher education</td>\n",
       "      <td>Civil marriage</td>\n",
       "      <td>Rented apartment</td>\n",
       "      <td>-12005</td>\n",
       "      <td>-4542</td>\n",
       "      <td>1</td>\n",
       "      <td>1</td>\n",
       "      <td>0</td>\n",
       "      <td>0</td>\n",
       "      <td>NaN</td>\n",
       "      <td>2.0</td>\n",
       "    </tr>\n",
       "    <tr>\n",
       "      <th>1</th>\n",
       "      <td>5008805</td>\n",
       "      <td>M</td>\n",
       "      <td>Y</td>\n",
       "      <td>Y</td>\n",
       "      <td>0</td>\n",
       "      <td>427500.0</td>\n",
       "      <td>Working</td>\n",
       "      <td>Higher education</td>\n",
       "      <td>Civil marriage</td>\n",
       "      <td>Rented apartment</td>\n",
       "      <td>-12005</td>\n",
       "      <td>-4542</td>\n",
       "      <td>1</td>\n",
       "      <td>1</td>\n",
       "      <td>0</td>\n",
       "      <td>0</td>\n",
       "      <td>NaN</td>\n",
       "      <td>2.0</td>\n",
       "    </tr>\n",
       "    <tr>\n",
       "      <th>2</th>\n",
       "      <td>5008806</td>\n",
       "      <td>M</td>\n",
       "      <td>Y</td>\n",
       "      <td>Y</td>\n",
       "      <td>0</td>\n",
       "      <td>112500.0</td>\n",
       "      <td>Working</td>\n",
       "      <td>Secondary / secondary special</td>\n",
       "      <td>Married</td>\n",
       "      <td>House / apartment</td>\n",
       "      <td>-21474</td>\n",
       "      <td>-1134</td>\n",
       "      <td>1</td>\n",
       "      <td>0</td>\n",
       "      <td>0</td>\n",
       "      <td>0</td>\n",
       "      <td>Security staff</td>\n",
       "      <td>2.0</td>\n",
       "    </tr>\n",
       "    <tr>\n",
       "      <th>3</th>\n",
       "      <td>5008808</td>\n",
       "      <td>F</td>\n",
       "      <td>N</td>\n",
       "      <td>Y</td>\n",
       "      <td>0</td>\n",
       "      <td>270000.0</td>\n",
       "      <td>Commercial associate</td>\n",
       "      <td>Secondary / secondary special</td>\n",
       "      <td>Single / not married</td>\n",
       "      <td>House / apartment</td>\n",
       "      <td>-19110</td>\n",
       "      <td>-3051</td>\n",
       "      <td>1</td>\n",
       "      <td>0</td>\n",
       "      <td>1</td>\n",
       "      <td>1</td>\n",
       "      <td>Sales staff</td>\n",
       "      <td>1.0</td>\n",
       "    </tr>\n",
       "    <tr>\n",
       "      <th>4</th>\n",
       "      <td>5008809</td>\n",
       "      <td>F</td>\n",
       "      <td>N</td>\n",
       "      <td>Y</td>\n",
       "      <td>0</td>\n",
       "      <td>270000.0</td>\n",
       "      <td>Commercial associate</td>\n",
       "      <td>Secondary / secondary special</td>\n",
       "      <td>Single / not married</td>\n",
       "      <td>House / apartment</td>\n",
       "      <td>-19110</td>\n",
       "      <td>-3051</td>\n",
       "      <td>1</td>\n",
       "      <td>0</td>\n",
       "      <td>1</td>\n",
       "      <td>1</td>\n",
       "      <td>Sales staff</td>\n",
       "      <td>1.0</td>\n",
       "    </tr>\n",
       "  </tbody>\n",
       "</table>\n",
       "</div>"
      ],
      "text/plain": [
       "        ID CODE_GENDER FLAG_OWN_CAR FLAG_OWN_REALTY  CNT_CHILDREN  \\\n",
       "0  5008804           M            Y               Y             0   \n",
       "1  5008805           M            Y               Y             0   \n",
       "2  5008806           M            Y               Y             0   \n",
       "3  5008808           F            N               Y             0   \n",
       "4  5008809           F            N               Y             0   \n",
       "\n",
       "   AMT_INCOME_TOTAL      NAME_INCOME_TYPE            NAME_EDUCATION_TYPE  \\\n",
       "0          427500.0               Working               Higher education   \n",
       "1          427500.0               Working               Higher education   \n",
       "2          112500.0               Working  Secondary / secondary special   \n",
       "3          270000.0  Commercial associate  Secondary / secondary special   \n",
       "4          270000.0  Commercial associate  Secondary / secondary special   \n",
       "\n",
       "     NAME_FAMILY_STATUS  NAME_HOUSING_TYPE  DAYS_BIRTH  DAYS_EMPLOYED  \\\n",
       "0        Civil marriage   Rented apartment      -12005          -4542   \n",
       "1        Civil marriage   Rented apartment      -12005          -4542   \n",
       "2               Married  House / apartment      -21474          -1134   \n",
       "3  Single / not married  House / apartment      -19110          -3051   \n",
       "4  Single / not married  House / apartment      -19110          -3051   \n",
       "\n",
       "   FLAG_MOBIL  FLAG_WORK_PHONE  FLAG_PHONE  FLAG_EMAIL OCCUPATION_TYPE  \\\n",
       "0           1                1           0           0             NaN   \n",
       "1           1                1           0           0             NaN   \n",
       "2           1                0           0           0  Security staff   \n",
       "3           1                0           1           1     Sales staff   \n",
       "4           1                0           1           1     Sales staff   \n",
       "\n",
       "   CNT_FAM_MEMBERS  \n",
       "0              2.0  \n",
       "1              2.0  \n",
       "2              2.0  \n",
       "3              1.0  \n",
       "4              1.0  "
      ]
     },
     "execution_count": 2,
     "metadata": {},
     "output_type": "execute_result"
    }
   ],
   "source": [
    "dfapp = pd.read_csv('application_record.csv')\n",
    "dfapp.head()"
   ]
  },
  {
   "cell_type": "code",
   "execution_count": 3,
   "metadata": {},
   "outputs": [
    {
     "data": {
      "text/html": [
       "<div>\n",
       "<style scoped>\n",
       "    .dataframe tbody tr th:only-of-type {\n",
       "        vertical-align: middle;\n",
       "    }\n",
       "\n",
       "    .dataframe tbody tr th {\n",
       "        vertical-align: top;\n",
       "    }\n",
       "\n",
       "    .dataframe thead th {\n",
       "        text-align: right;\n",
       "    }\n",
       "</style>\n",
       "<table border=\"1\" class=\"dataframe\">\n",
       "  <thead>\n",
       "    <tr style=\"text-align: right;\">\n",
       "      <th></th>\n",
       "      <th>ID</th>\n",
       "      <th>MONTHS_BALANCE</th>\n",
       "      <th>STATUS</th>\n",
       "    </tr>\n",
       "  </thead>\n",
       "  <tbody>\n",
       "    <tr>\n",
       "      <th>0</th>\n",
       "      <td>5001711</td>\n",
       "      <td>0</td>\n",
       "      <td>X</td>\n",
       "    </tr>\n",
       "    <tr>\n",
       "      <th>1</th>\n",
       "      <td>5001711</td>\n",
       "      <td>-1</td>\n",
       "      <td>0</td>\n",
       "    </tr>\n",
       "    <tr>\n",
       "      <th>2</th>\n",
       "      <td>5001711</td>\n",
       "      <td>-2</td>\n",
       "      <td>0</td>\n",
       "    </tr>\n",
       "    <tr>\n",
       "      <th>3</th>\n",
       "      <td>5001711</td>\n",
       "      <td>-3</td>\n",
       "      <td>0</td>\n",
       "    </tr>\n",
       "    <tr>\n",
       "      <th>4</th>\n",
       "      <td>5001712</td>\n",
       "      <td>0</td>\n",
       "      <td>C</td>\n",
       "    </tr>\n",
       "  </tbody>\n",
       "</table>\n",
       "</div>"
      ],
      "text/plain": [
       "        ID  MONTHS_BALANCE STATUS\n",
       "0  5001711               0      X\n",
       "1  5001711              -1      0\n",
       "2  5001711              -2      0\n",
       "3  5001711              -3      0\n",
       "4  5001712               0      C"
      ]
     },
     "execution_count": 3,
     "metadata": {},
     "output_type": "execute_result"
    }
   ],
   "source": [
    "dfcr = pd.read_csv('credit_record.csv')\n",
    "dfcr.head()"
   ]
  },
  {
   "cell_type": "markdown",
   "metadata": {},
   "source": [
    "## Data Dictionary\n",
    "\n",
    "<img src = 'ModelImage/Credit Approval Explanation.JPG' width=\"600\" height=\"400\" />\n",
    "\n",
    "<img src = 'ModelImage/Credit record explanation.JPG' width=\"600\" height=\"400\" />"
   ]
  },
  {
   "cell_type": "markdown",
   "metadata": {},
   "source": [
    "### Defining Target\n",
    "\n",
    "Late payments can have a significant effect on credit card score.The late payment is added to credit report when your payment is more than 30 days late. An entry is added to your credit report and can stay for seven years. \n",
    "\n",
    "in this case :\n",
    "- Approve: if status below 30 days due (Status : 0, C, X) (Label : 0)\n",
    "- Reject : if stats above 30 days due ( Status : 1,2,3,4,5) (Label : 1)\n"
   ]
  },
  {
   "cell_type": "code",
   "execution_count": 4,
   "metadata": {},
   "outputs": [],
   "source": [
    "dfcr['target'] = dfcr['STATUS'].apply(lambda x : 0 if x == 'X' or x == 'C' or x == '0' else 1)"
   ]
  },
  {
   "cell_type": "code",
   "execution_count": 5,
   "metadata": {},
   "outputs": [],
   "source": [
    "dfcr = dfcr.groupby('ID').max()\n",
    "dfcr = dfcr.drop(['MONTHS_BALANCE','STATUS'], axis=1)"
   ]
  },
  {
   "cell_type": "code",
   "execution_count": 6,
   "metadata": {},
   "outputs": [
    {
     "data": {
      "text/html": [
       "<div>\n",
       "<style scoped>\n",
       "    .dataframe tbody tr th:only-of-type {\n",
       "        vertical-align: middle;\n",
       "    }\n",
       "\n",
       "    .dataframe tbody tr th {\n",
       "        vertical-align: top;\n",
       "    }\n",
       "\n",
       "    .dataframe thead th {\n",
       "        text-align: right;\n",
       "    }\n",
       "</style>\n",
       "<table border=\"1\" class=\"dataframe\">\n",
       "  <thead>\n",
       "    <tr style=\"text-align: right;\">\n",
       "      <th></th>\n",
       "      <th>ID</th>\n",
       "      <th>target</th>\n",
       "      <th>Gender</th>\n",
       "      <th>Car</th>\n",
       "      <th>Property</th>\n",
       "      <th>NoChild</th>\n",
       "      <th>Income</th>\n",
       "      <th>IncomeType</th>\n",
       "      <th>Education</th>\n",
       "      <th>MartialStat</th>\n",
       "      <th>HousingType</th>\n",
       "      <th>DAYS_BIRTH</th>\n",
       "      <th>DAYS_EMPLOYED</th>\n",
       "      <th>MobilePhone</th>\n",
       "      <th>Workphone</th>\n",
       "      <th>Phone</th>\n",
       "      <th>Email</th>\n",
       "      <th>Occupation</th>\n",
       "      <th>FamSize</th>\n",
       "    </tr>\n",
       "  </thead>\n",
       "  <tbody>\n",
       "    <tr>\n",
       "      <th>0</th>\n",
       "      <td>5008804</td>\n",
       "      <td>1</td>\n",
       "      <td>M</td>\n",
       "      <td>Y</td>\n",
       "      <td>Y</td>\n",
       "      <td>0</td>\n",
       "      <td>427500.0</td>\n",
       "      <td>Working</td>\n",
       "      <td>Higher education</td>\n",
       "      <td>Civil marriage</td>\n",
       "      <td>Rented apartment</td>\n",
       "      <td>-12005</td>\n",
       "      <td>-4542</td>\n",
       "      <td>1</td>\n",
       "      <td>1</td>\n",
       "      <td>0</td>\n",
       "      <td>0</td>\n",
       "      <td>NaN</td>\n",
       "      <td>2.0</td>\n",
       "    </tr>\n",
       "    <tr>\n",
       "      <th>1</th>\n",
       "      <td>5008805</td>\n",
       "      <td>1</td>\n",
       "      <td>M</td>\n",
       "      <td>Y</td>\n",
       "      <td>Y</td>\n",
       "      <td>0</td>\n",
       "      <td>427500.0</td>\n",
       "      <td>Working</td>\n",
       "      <td>Higher education</td>\n",
       "      <td>Civil marriage</td>\n",
       "      <td>Rented apartment</td>\n",
       "      <td>-12005</td>\n",
       "      <td>-4542</td>\n",
       "      <td>1</td>\n",
       "      <td>1</td>\n",
       "      <td>0</td>\n",
       "      <td>0</td>\n",
       "      <td>NaN</td>\n",
       "      <td>2.0</td>\n",
       "    </tr>\n",
       "    <tr>\n",
       "      <th>2</th>\n",
       "      <td>5008806</td>\n",
       "      <td>0</td>\n",
       "      <td>M</td>\n",
       "      <td>Y</td>\n",
       "      <td>Y</td>\n",
       "      <td>0</td>\n",
       "      <td>112500.0</td>\n",
       "      <td>Working</td>\n",
       "      <td>Secondary / secondary special</td>\n",
       "      <td>Married</td>\n",
       "      <td>House / apartment</td>\n",
       "      <td>-21474</td>\n",
       "      <td>-1134</td>\n",
       "      <td>1</td>\n",
       "      <td>0</td>\n",
       "      <td>0</td>\n",
       "      <td>0</td>\n",
       "      <td>Security staff</td>\n",
       "      <td>2.0</td>\n",
       "    </tr>\n",
       "    <tr>\n",
       "      <th>3</th>\n",
       "      <td>5008808</td>\n",
       "      <td>0</td>\n",
       "      <td>F</td>\n",
       "      <td>N</td>\n",
       "      <td>Y</td>\n",
       "      <td>0</td>\n",
       "      <td>270000.0</td>\n",
       "      <td>Commercial associate</td>\n",
       "      <td>Secondary / secondary special</td>\n",
       "      <td>Single / not married</td>\n",
       "      <td>House / apartment</td>\n",
       "      <td>-19110</td>\n",
       "      <td>-3051</td>\n",
       "      <td>1</td>\n",
       "      <td>0</td>\n",
       "      <td>1</td>\n",
       "      <td>1</td>\n",
       "      <td>Sales staff</td>\n",
       "      <td>1.0</td>\n",
       "    </tr>\n",
       "    <tr>\n",
       "      <th>4</th>\n",
       "      <td>5008809</td>\n",
       "      <td>0</td>\n",
       "      <td>F</td>\n",
       "      <td>N</td>\n",
       "      <td>Y</td>\n",
       "      <td>0</td>\n",
       "      <td>270000.0</td>\n",
       "      <td>Commercial associate</td>\n",
       "      <td>Secondary / secondary special</td>\n",
       "      <td>Single / not married</td>\n",
       "      <td>House / apartment</td>\n",
       "      <td>-19110</td>\n",
       "      <td>-3051</td>\n",
       "      <td>1</td>\n",
       "      <td>0</td>\n",
       "      <td>1</td>\n",
       "      <td>1</td>\n",
       "      <td>Sales staff</td>\n",
       "      <td>1.0</td>\n",
       "    </tr>\n",
       "  </tbody>\n",
       "</table>\n",
       "</div>"
      ],
      "text/plain": [
       "        ID  target Gender Car Property  NoChild    Income  \\\n",
       "0  5008804       1      M   Y        Y        0  427500.0   \n",
       "1  5008805       1      M   Y        Y        0  427500.0   \n",
       "2  5008806       0      M   Y        Y        0  112500.0   \n",
       "3  5008808       0      F   N        Y        0  270000.0   \n",
       "4  5008809       0      F   N        Y        0  270000.0   \n",
       "\n",
       "             IncomeType                      Education           MartialStat  \\\n",
       "0               Working               Higher education        Civil marriage   \n",
       "1               Working               Higher education        Civil marriage   \n",
       "2               Working  Secondary / secondary special               Married   \n",
       "3  Commercial associate  Secondary / secondary special  Single / not married   \n",
       "4  Commercial associate  Secondary / secondary special  Single / not married   \n",
       "\n",
       "         HousingType  DAYS_BIRTH  DAYS_EMPLOYED  MobilePhone  Workphone  \\\n",
       "0   Rented apartment      -12005          -4542            1          1   \n",
       "1   Rented apartment      -12005          -4542            1          1   \n",
       "2  House / apartment      -21474          -1134            1          0   \n",
       "3  House / apartment      -19110          -3051            1          0   \n",
       "4  House / apartment      -19110          -3051            1          0   \n",
       "\n",
       "   Phone  Email      Occupation  FamSize  \n",
       "0      0      0             NaN      2.0  \n",
       "1      0      0             NaN      2.0  \n",
       "2      0      0  Security staff      2.0  \n",
       "3      1      1     Sales staff      1.0  \n",
       "4      1      1     Sales staff      1.0  "
      ]
     },
     "execution_count": 6,
     "metadata": {},
     "output_type": "execute_result"
    }
   ],
   "source": [
    "# Merge Dataset\n",
    "\n",
    "dfapproval = dfcr.merge(dfapp, left_on='ID', right_on='ID')\n",
    "dfapproval.head()\n",
    "\n",
    "# Renaming Columns\n",
    "dfapproval.rename(columns={\n",
    "    'CODE_GENDER':'Gender',\n",
    "    'FLAG_OWN_CAR':'Car',\n",
    "    'FLAG_OWN_REALTY':'Property',\n",
    "    'CNT_CHILDREN':'NoChild',\n",
    "    'AMT_INCOME_TOTAL':'Income',\n",
    "    'NAME_EDUCATION_TYPE':'Education',\n",
    "    'NAME_FAMILY_STATUS':'MartialStat',\n",
    "    'NAME_HOUSING_TYPE':'HousingType',\n",
    "    'FLAG_EMAIL':'Email',\n",
    "    'NAME_INCOME_TYPE':'IncomeType',\n",
    "    'FLAG_MOBIL':'MobilePhone',\n",
    "    'FLAG_WORK_PHONE':'Workphone',\n",
    "    'FLAG_PHONE':'Phone',\n",
    "    'CNT_FAM_MEMBERS':'FamSize',\n",
    "    'OCCUPATION_TYPE':'Occupation'},inplace=True)\n",
    "\n",
    "dfapproval.head()"
   ]
  },
  {
   "cell_type": "markdown",
   "metadata": {},
   "source": [
    "## Data Cleaning\n",
    "<hr>"
   ]
  },
  {
   "cell_type": "code",
   "execution_count": 7,
   "metadata": {},
   "outputs": [
    {
     "data": {
      "text/plain": [
       "array(['Others', 'Security staff', 'Sales staff', 'Accountants',\n",
       "       'Laborers', 'Managers', 'Drivers', 'Core staff',\n",
       "       'High skill tech staff', 'Cleaning staff', 'Private service staff',\n",
       "       'Cooking staff', 'Low-skill Laborers', 'Medicine staff',\n",
       "       'Secretaries', 'Waiters/barmen staff', 'HR staff', 'Realty agents',\n",
       "       'IT staff'], dtype=object)"
      ]
     },
     "execution_count": 7,
     "metadata": {},
     "output_type": "execute_result"
    }
   ],
   "source": [
    "# Changing NAN Values of occupation type to Others\n",
    "dfapproval['Occupation'] = dfapproval['Occupation'].fillna(\"Others\")\n",
    "dfapproval['Occupation'].unique()"
   ]
  },
  {
   "cell_type": "code",
   "execution_count": 8,
   "metadata": {},
   "outputs": [
    {
     "data": {
      "text/plain": [
       "0        32\n",
       "1        32\n",
       "2        58\n",
       "3        52\n",
       "4        52\n",
       "         ..\n",
       "36452    29\n",
       "36453    29\n",
       "36454    29\n",
       "36455    29\n",
       "36456    53\n",
       "Name: Age, Length: 36457, dtype: int64"
      ]
     },
     "execution_count": 8,
     "metadata": {},
     "output_type": "execute_result"
    }
   ],
   "source": [
    "# Changing Days_Birth into Age (Years)\n",
    "dfapproval['Age'] =dfapproval['DAYS_BIRTH'].apply(lambda x : int(x/365 * -1))\n",
    "dfapproval['Age']"
   ]
  },
  {
   "cell_type": "code",
   "execution_count": 9,
   "metadata": {},
   "outputs": [
    {
     "data": {
      "text/plain": [
       "0        12\n",
       "1        12\n",
       "2         3\n",
       "3         8\n",
       "4         8\n",
       "         ..\n",
       "36452     4\n",
       "36453     4\n",
       "36454     4\n",
       "36455     4\n",
       "36456     5\n",
       "Name: LOE, Length: 36457, dtype: int64"
      ]
     },
     "execution_count": 9,
     "metadata": {},
     "output_type": "execute_result"
    }
   ],
   "source": [
    "# Changing Days_Employee into  Length of Employment (LOE) (Years)\n",
    "dfapproval['LOE'] = dfapproval['DAYS_EMPLOYED'].apply(lambda x : int(x/365 * -1))\n",
    "dfapproval['LOE']"
   ]
  },
  {
   "cell_type": "code",
   "execution_count": 10,
   "metadata": {},
   "outputs": [],
   "source": [
    "# Dropping Mobile Phone (Reason : EDA)\n",
    "dfapproval = dfapproval.drop('MobilePhone', axis=1)"
   ]
  },
  {
   "cell_type": "markdown",
   "metadata": {},
   "source": [
    "### Identifying Outliers in Numerical Data"
   ]
  },
  {
   "cell_type": "code",
   "execution_count": 11,
   "metadata": {},
   "outputs": [
    {
     "data": {
      "image/png": "[encoded data removed]",
      "text/plain": [
       "<Figure size 864x576 with 5 Axes>"
      ]
     },
     "metadata": {
      "needs_background": "light"
     },
     "output_type": "display_data"
    }
   ],
   "source": [
    "plt.figure(figsize=(12,8))\n",
    "plt.subplot(231)\n",
    "plt.boxplot(dfapproval['Age'])\n",
    "plt.title('Outlier in Age')\n",
    "\n",
    "plt.subplot(232)\n",
    "plt.boxplot(dfapproval['Income'])\n",
    "plt.title('Outlier in Income')\n",
    "\n",
    "plt.subplot(233)\n",
    "plt.boxplot(dfapproval['LOE'])\n",
    "plt.title('Outlier in LOE')\n",
    "\n",
    "plt.subplot(234)\n",
    "plt.boxplot(dfapproval['FamSize'])\n",
    "plt.title('Outlier in Famsize')\n",
    "\n",
    "plt.subplot(236)\n",
    "plt.boxplot(dfapproval['NoChild'])\n",
    "plt.title('Outlier in NoChild')\n",
    "\n",
    "plt.show()"
   ]
  },
  {
   "cell_type": "code",
   "execution_count": 12,
   "metadata": {},
   "outputs": [
    {
     "name": "stdout",
     "output_type": "stream",
     "text": [
      "Income     103500.0\n",
      "LOE             7.0\n",
      "FamSize         1.0\n",
      "NoChild         1.0\n",
      "dtype: float64\n"
     ]
    }
   ],
   "source": [
    "numdat = ['Income','LOE','FamSize','NoChild']\n",
    "Q1 = dfapproval[numdat].quantile(0.25)\n",
    "Q3 = dfapproval[numdat].quantile(0.75)\n",
    "IQR = Q3 - Q1\n",
    "print(IQR)"
   ]
  },
  {
   "cell_type": "code",
   "execution_count": 13,
   "metadata": {},
   "outputs": [
    {
     "name": "stdout",
     "output_type": "stream",
     "text": [
      "(36457, 20)\n",
      "(26518, 20)\n"
     ]
    }
   ],
   "source": [
    "dfapproval_new =dfapproval[~((dfapproval[numdat] < (Q1 - 1.5 * IQR)) |(dfapproval[numdat] > (Q3 + 1.5 * IQR))).any(axis=1)].copy()\n",
    "print(dfapproval.shape)\n",
    "print(dfapproval_new.shape)"
   ]
  },
  {
   "cell_type": "code",
   "execution_count": 14,
   "metadata": {},
   "outputs": [
    {
     "name": "stdout",
     "output_type": "stream",
     "text": [
      "(4291, 20)\n",
      "(3178, 20)\n"
     ]
    }
   ],
   "source": [
    "print(dfapproval[dfapproval['target']==1].shape)\n",
    "print(dfapproval_new[dfapproval_new['target']==1].shape)"
   ]
  },
  {
   "cell_type": "code",
   "execution_count": 15,
   "metadata": {},
   "outputs": [
    {
     "data": {
      "text/html": [
       "<div>\n",
       "<style scoped>\n",
       "    .dataframe tbody tr th:only-of-type {\n",
       "        vertical-align: middle;\n",
       "    }\n",
       "\n",
       "    .dataframe tbody tr th {\n",
       "        vertical-align: top;\n",
       "    }\n",
       "\n",
       "    .dataframe thead th {\n",
       "        text-align: right;\n",
       "    }\n",
       "</style>\n",
       "<table border=\"1\" class=\"dataframe\">\n",
       "  <thead>\n",
       "    <tr style=\"text-align: right;\">\n",
       "      <th></th>\n",
       "      <th>ID</th>\n",
       "      <th>target</th>\n",
       "      <th>Gender</th>\n",
       "      <th>Car</th>\n",
       "      <th>Property</th>\n",
       "      <th>NoChild</th>\n",
       "      <th>Income</th>\n",
       "      <th>IncomeType</th>\n",
       "      <th>Education</th>\n",
       "      <th>MartialStat</th>\n",
       "      <th>HousingType</th>\n",
       "      <th>DAYS_BIRTH</th>\n",
       "      <th>DAYS_EMPLOYED</th>\n",
       "      <th>Workphone</th>\n",
       "      <th>Phone</th>\n",
       "      <th>Email</th>\n",
       "      <th>Occupation</th>\n",
       "      <th>FamSize</th>\n",
       "      <th>Age</th>\n",
       "      <th>LOE</th>\n",
       "    </tr>\n",
       "  </thead>\n",
       "  <tbody>\n",
       "    <tr>\n",
       "      <th>2</th>\n",
       "      <td>5008806</td>\n",
       "      <td>0</td>\n",
       "      <td>M</td>\n",
       "      <td>Y</td>\n",
       "      <td>Y</td>\n",
       "      <td>0</td>\n",
       "      <td>112500.0</td>\n",
       "      <td>Working</td>\n",
       "      <td>Secondary / secondary special</td>\n",
       "      <td>Married</td>\n",
       "      <td>House / apartment</td>\n",
       "      <td>-21474</td>\n",
       "      <td>-1134</td>\n",
       "      <td>0</td>\n",
       "      <td>0</td>\n",
       "      <td>0</td>\n",
       "      <td>Security staff</td>\n",
       "      <td>2.0</td>\n",
       "      <td>58</td>\n",
       "      <td>3</td>\n",
       "    </tr>\n",
       "    <tr>\n",
       "      <th>3</th>\n",
       "      <td>5008808</td>\n",
       "      <td>0</td>\n",
       "      <td>F</td>\n",
       "      <td>N</td>\n",
       "      <td>Y</td>\n",
       "      <td>0</td>\n",
       "      <td>270000.0</td>\n",
       "      <td>Commercial associate</td>\n",
       "      <td>Secondary / secondary special</td>\n",
       "      <td>Single / not married</td>\n",
       "      <td>House / apartment</td>\n",
       "      <td>-19110</td>\n",
       "      <td>-3051</td>\n",
       "      <td>0</td>\n",
       "      <td>1</td>\n",
       "      <td>1</td>\n",
       "      <td>Sales staff</td>\n",
       "      <td>1.0</td>\n",
       "      <td>52</td>\n",
       "      <td>8</td>\n",
       "    </tr>\n",
       "    <tr>\n",
       "      <th>4</th>\n",
       "      <td>5008809</td>\n",
       "      <td>0</td>\n",
       "      <td>F</td>\n",
       "      <td>N</td>\n",
       "      <td>Y</td>\n",
       "      <td>0</td>\n",
       "      <td>270000.0</td>\n",
       "      <td>Commercial associate</td>\n",
       "      <td>Secondary / secondary special</td>\n",
       "      <td>Single / not married</td>\n",
       "      <td>House / apartment</td>\n",
       "      <td>-19110</td>\n",
       "      <td>-3051</td>\n",
       "      <td>0</td>\n",
       "      <td>1</td>\n",
       "      <td>1</td>\n",
       "      <td>Sales staff</td>\n",
       "      <td>1.0</td>\n",
       "      <td>52</td>\n",
       "      <td>8</td>\n",
       "    </tr>\n",
       "    <tr>\n",
       "      <th>5</th>\n",
       "      <td>5008810</td>\n",
       "      <td>0</td>\n",
       "      <td>F</td>\n",
       "      <td>N</td>\n",
       "      <td>Y</td>\n",
       "      <td>0</td>\n",
       "      <td>270000.0</td>\n",
       "      <td>Commercial associate</td>\n",
       "      <td>Secondary / secondary special</td>\n",
       "      <td>Single / not married</td>\n",
       "      <td>House / apartment</td>\n",
       "      <td>-19110</td>\n",
       "      <td>-3051</td>\n",
       "      <td>0</td>\n",
       "      <td>1</td>\n",
       "      <td>1</td>\n",
       "      <td>Sales staff</td>\n",
       "      <td>1.0</td>\n",
       "      <td>52</td>\n",
       "      <td>8</td>\n",
       "    </tr>\n",
       "    <tr>\n",
       "      <th>6</th>\n",
       "      <td>5008811</td>\n",
       "      <td>0</td>\n",
       "      <td>F</td>\n",
       "      <td>N</td>\n",
       "      <td>Y</td>\n",
       "      <td>0</td>\n",
       "      <td>270000.0</td>\n",
       "      <td>Commercial associate</td>\n",
       "      <td>Secondary / secondary special</td>\n",
       "      <td>Single / not married</td>\n",
       "      <td>House / apartment</td>\n",
       "      <td>-19110</td>\n",
       "      <td>-3051</td>\n",
       "      <td>0</td>\n",
       "      <td>1</td>\n",
       "      <td>1</td>\n",
       "      <td>Sales staff</td>\n",
       "      <td>1.0</td>\n",
       "      <td>52</td>\n",
       "      <td>8</td>\n",
       "    </tr>\n",
       "  </tbody>\n",
       "</table>\n",
       "</div>"
      ],
      "text/plain": [
       "        ID  target Gender Car Property  NoChild    Income  \\\n",
       "2  5008806       0      M   Y        Y        0  112500.0   \n",
       "3  5008808       0      F   N        Y        0  270000.0   \n",
       "4  5008809       0      F   N        Y        0  270000.0   \n",
       "5  5008810       0      F   N        Y        0  270000.0   \n",
       "6  5008811       0      F   N        Y        0  270000.0   \n",
       "\n",
       "             IncomeType                      Education           MartialStat  \\\n",
       "2               Working  Secondary / secondary special               Married   \n",
       "3  Commercial associate  Secondary / secondary special  Single / not married   \n",
       "4  Commercial associate  Secondary / secondary special  Single / not married   \n",
       "5  Commercial associate  Secondary / secondary special  Single / not married   \n",
       "6  Commercial associate  Secondary / secondary special  Single / not married   \n",
       "\n",
       "         HousingType  DAYS_BIRTH  DAYS_EMPLOYED  Workphone  Phone  Email  \\\n",
       "2  House / apartment      -21474          -1134          0      0      0   \n",
       "3  House / apartment      -19110          -3051          0      1      1   \n",
       "4  House / apartment      -19110          -3051          0      1      1   \n",
       "5  House / apartment      -19110          -3051          0      1      1   \n",
       "6  House / apartment      -19110          -3051          0      1      1   \n",
       "\n",
       "       Occupation  FamSize  Age  LOE  \n",
       "2  Security staff      2.0   58    3  \n",
       "3     Sales staff      1.0   52    8  \n",
       "4     Sales staff      1.0   52    8  \n",
       "5     Sales staff      1.0   52    8  \n",
       "6     Sales staff      1.0   52    8  "
      ]
     },
     "execution_count": 15,
     "metadata": {},
     "output_type": "execute_result"
    }
   ],
   "source": [
    "dfapproval_new.head()"
   ]
  },
  {
   "cell_type": "markdown",
   "metadata": {},
   "source": [
    "###  Handling Categorical Data"
   ]
  },
  {
   "cell_type": "code",
   "execution_count": 16,
   "metadata": {},
   "outputs": [],
   "source": [
    "dfapproval_new['Gender'] = dfapproval_new['Gender'].apply(lambda x: 1 if x == 'M' else 0 )\n",
    "dfapproval_new['Car'] = dfapproval_new['Car'].apply(lambda x: 1 if x == 'Y' else 0 )\n",
    "dfapproval_new['Property'] = dfapproval_new['Property'].apply(lambda x: 1 if x == 'Y' else 0 )"
   ]
  },
  {
   "cell_type": "code",
   "execution_count": 17,
   "metadata": {},
   "outputs": [],
   "source": [
    "# Dummies for Categorical Data\n",
    "categorical = ['IncomeType','Education','MartialStat','HousingType','Occupation']\n",
    "dfdummy = pd.get_dummies(dfapproval_new[categorical])"
   ]
  },
  {
   "cell_type": "markdown",
   "metadata": {},
   "source": [
    "### Split Dataset"
   ]
  },
  {
   "cell_type": "code",
   "execution_count": 18,
   "metadata": {},
   "outputs": [
    {
     "data": {
      "text/plain": [
       "(26518, 51)"
      ]
     },
     "execution_count": 18,
     "metadata": {},
     "output_type": "execute_result"
    }
   ],
   "source": [
    "dffeaturex = pd.concat([dfapproval_new[['Gender','Car','Property','NoChild','Income','Age','LOE','Workphone','Phone','Email','FamSize']],dfdummy],\n",
    "                      axis='columns')\n",
    "dffeaturey = dfapproval_new['target']\n",
    "dffeaturex.shape"
   ]
  },
  {
   "cell_type": "code",
   "execution_count": 19,
   "metadata": {},
   "outputs": [],
   "source": [
    "xtr, xts, ytr, yts = train_test_split(dffeaturex,dffeaturey, test_size = 0.2)\n",
    "dftrain = pd.concat([xtr,ytr], axis=1)\n",
    "dftes = pd.concat([xts,yts], axis=1)"
   ]
  },
  {
   "cell_type": "markdown",
   "metadata": {},
   "source": [
    "## ML Models\n",
    "<hr>"
   ]
  },
  {
   "cell_type": "markdown",
   "metadata": {},
   "source": [
    "Model Machine Learning yang digunakan merupakan __Model _Classification___\n",
    "\n",
    "Model ML: \n",
    "- Logistic Regression\n",
    "- K-Nearest Neighbors\n",
    "- DecisionTree\n",
    "- Random Forest\n",
    "- Gradient Boosting classifier"
   ]
  },
  {
   "cell_type": "code",
   "execution_count": 20,
   "metadata": {},
   "outputs": [],
   "source": [
    "from sklearn.metrics import f1_score, precision_score, recall_score,  confusion_matrix, classification_report, roc_curve, auc, roc_auc_score"
   ]
  },
  {
   "cell_type": "markdown",
   "metadata": {},
   "source": [
    "### Logistic Regression"
   ]
  },
  {
   "cell_type": "code",
   "execution_count": 21,
   "metadata": {},
   "outputs": [],
   "source": [
    "from sklearn.linear_model import LogisticRegression\n",
    "MLLR = LogisticRegression()"
   ]
  },
  {
   "cell_type": "code",
   "execution_count": 22,
   "metadata": {},
   "outputs": [
    {
     "data": {
      "text/plain": [
       "LogisticRegression(C=1.0, class_weight=None, dual=False, fit_intercept=True,\n",
       "                   intercept_scaling=1, l1_ratio=None, max_iter=100,\n",
       "                   multi_class='auto', n_jobs=None, penalty='l2',\n",
       "                   random_state=None, solver='lbfgs', tol=0.0001, verbose=0,\n",
       "                   warm_start=False)"
      ]
     },
     "execution_count": 22,
     "metadata": {},
     "output_type": "execute_result"
    }
   ],
   "source": [
    "MLLR.fit(xtr,ytr)"
   ]
  },
  {
   "cell_type": "code",
   "execution_count": 23,
   "metadata": {},
   "outputs": [
    {
     "name": "stdout",
     "output_type": "stream",
     "text": [
      "[0 0 0 ... 0 0 0]\n",
      "Base Score (training) = 0.881116243989818\n",
      "Base Score (test) = 0.8763197586726998\n",
      "Logistic Regression Base Report\n",
      "              precision    recall  f1-score   support\n",
      "\n",
      "           0       0.88      1.00      0.93      4648\n",
      "           1       0.00      0.00      0.00       656\n",
      "\n",
      "    accuracy                           0.88      5304\n",
      "   macro avg       0.44      0.50      0.47      5304\n",
      "weighted avg       0.77      0.88      0.82      5304\n",
      "\n",
      "          Pred 0  Pred 1\n",
      "Actual 0    4648       0\n",
      "Actual 1     656       0\n",
      "\n",
      "\n"
     ]
    },
    {
     "name": "stderr",
     "output_type": "stream",
     "text": [
      "c:\\users\\user\\appdata\\local\\programs\\python\\python38\\lib\\site-packages\\sklearn\\metrics\\_classification.py:1272: UndefinedMetricWarning: Precision and F-score are ill-defined and being set to 0.0 in labels with no predicted samples. Use `zero_division` parameter to control this behavior.\n",
      "  _warn_prf(average, modifier, msg_start, len(result))\n"
     ]
    }
   ],
   "source": [
    "# Base Score LR\n",
    "yp = MLLR.predict(xts)\n",
    "print(yp)\n",
    "print(f'Base Score (training) = {MLLR.score(xtr,ytr)}')\n",
    "print(f'Base Score (test) = {MLLR.score(xts,yts)}')\n",
    "\n",
    "print('Logistic Regression Base Report')\n",
    "print(classification_report(yts, yp))\n",
    "cm = confusion_matrix(yts, yp,  labels= [0,1])\n",
    "dfcm = pd.DataFrame(\n",
    "    cm, columns=['Pred 0','Pred 1'], index= ['Actual 0', 'Actual 1']\n",
    ")\n",
    "print(dfcm)\n",
    "print('\\n')"
   ]
  },
  {
   "cell_type": "markdown",
   "metadata": {},
   "source": [
    "### Decision Tree"
   ]
  },
  {
   "cell_type": "code",
   "execution_count": 24,
   "metadata": {},
   "outputs": [],
   "source": [
    "from sklearn.tree import DecisionTreeClassifier, plot_tree, export_graphviz\n",
    "\n",
    "MLDT = DecisionTreeClassifier()"
   ]
  },
  {
   "cell_type": "code",
   "execution_count": 25,
   "metadata": {},
   "outputs": [
    {
     "data": {
      "text/plain": [
       "DecisionTreeClassifier(ccp_alpha=0.0, class_weight=None, criterion='gini',\n",
       "                       max_depth=None, max_features=None, max_leaf_nodes=None,\n",
       "                       min_impurity_decrease=0.0, min_impurity_split=None,\n",
       "                       min_samples_leaf=1, min_samples_split=2,\n",
       "                       min_weight_fraction_leaf=0.0, presort='deprecated',\n",
       "                       random_state=None, splitter='best')"
      ]
     },
     "execution_count": 25,
     "metadata": {},
     "output_type": "execute_result"
    }
   ],
   "source": [
    "MLDT .fit(xtr,ytr)"
   ]
  },
  {
   "cell_type": "code",
   "execution_count": 26,
   "metadata": {},
   "outputs": [
    {
     "name": "stdout",
     "output_type": "stream",
     "text": [
      "[0 0 0 ... 0 0 0]\n",
      "Base Score (training) = 0.93230885264448\n",
      "Base Score (test) = 0.8731146304675717\n",
      "Decision Tree Base Report\n",
      "              precision    recall  f1-score   support\n",
      "\n",
      "           0       0.91      0.96      0.93      4648\n",
      "           1       0.48      0.29      0.36       656\n",
      "\n",
      "    accuracy                           0.87      5304\n",
      "   macro avg       0.69      0.62      0.65      5304\n",
      "weighted avg       0.85      0.87      0.86      5304\n",
      "\n",
      "          Pred 0  Pred 1\n",
      "Actual 0    4440     208\n",
      "Actual 1     465     191\n",
      "\n",
      "\n"
     ]
    }
   ],
   "source": [
    "# Base Score DT\n",
    "yp = MLDT.predict(xts)\n",
    "print(yp)\n",
    "print(f'Base Score (training) = {MLDT.score(xtr,ytr)}')\n",
    "print(f'Base Score (test) = {MLDT.score(xts,yts)}')\n",
    "\n",
    "print('Decision Tree Base Report')\n",
    "print(classification_report(yts, yp))\n",
    "cm = confusion_matrix(yts, yp,  labels= [0,1])\n",
    "dfcm = pd.DataFrame(\n",
    "    cm, columns=['Pred 0','Pred 1'], index= ['Actual 0', 'Actual 1']\n",
    ")\n",
    "print(dfcm)\n",
    "print('\\n')"
   ]
  },
  {
   "cell_type": "markdown",
   "metadata": {},
   "source": [
    "### K-Nearest Neighbors (KNN)"
   ]
  },
  {
   "cell_type": "code",
   "execution_count": 27,
   "metadata": {},
   "outputs": [
    {
     "data": {
      "text/plain": [
       "145"
      ]
     },
     "execution_count": 27,
     "metadata": {},
     "output_type": "execute_result"
    }
   ],
   "source": [
    "def k(x) :\n",
    "    k = int(np.sqrt(x))\n",
    "    if k % 2 == 0:\n",
    "        k += 1\n",
    "        return k\n",
    "    else :\n",
    "        return k\n",
    "    \n",
    "k(len(xtr))"
   ]
  },
  {
   "cell_type": "code",
   "execution_count": 28,
   "metadata": {},
   "outputs": [],
   "source": [
    "from sklearn.neighbors import KNeighborsClassifier\n",
    "MLKN = KNeighborsClassifier()"
   ]
  },
  {
   "cell_type": "code",
   "execution_count": 29,
   "metadata": {},
   "outputs": [
    {
     "data": {
      "text/plain": [
       "KNeighborsClassifier(algorithm='auto', leaf_size=30, metric='minkowski',\n",
       "                     metric_params=None, n_jobs=None, n_neighbors=5, p=2,\n",
       "                     weights='uniform')"
      ]
     },
     "execution_count": 29,
     "metadata": {},
     "output_type": "execute_result"
    }
   ],
   "source": [
    "MLKN.fit(xtr,ytr)"
   ]
  },
  {
   "cell_type": "code",
   "execution_count": 30,
   "metadata": {},
   "outputs": [
    {
     "name": "stdout",
     "output_type": "stream",
     "text": [
      "[0 0 0 ... 0 0 0]\n",
      "Base Score (training) = 0.9022815122089186\n",
      "Base Score (test) = 0.8689668174962293\n",
      "KNN Base Report\n",
      "              precision    recall  f1-score   support\n",
      "\n",
      "           0       0.89      0.97      0.93      4648\n",
      "           1       0.43      0.18      0.25       656\n",
      "\n",
      "    accuracy                           0.87      5304\n",
      "   macro avg       0.66      0.57      0.59      5304\n",
      "weighted avg       0.84      0.87      0.84      5304\n",
      "\n",
      "[[4494  154]\n",
      " [ 541  115]]\n",
      "          Pred 0  Pred 1\n",
      "Actual 0    4440     208\n",
      "Actual 1     465     191\n",
      "\n",
      "\n"
     ]
    }
   ],
   "source": [
    "# Base Score KNN\n",
    "yp = MLKN.predict(xts)\n",
    "print(yp)\n",
    "print(f'Base Score (training) = {MLKN.score(xtr,ytr)}')\n",
    "print(f'Base Score (test) = {MLKN.score(xts,yts)}')\n",
    "\n",
    "print('KNN Base Report')\n",
    "print(classification_report(yts, yp))\n",
    "print(confusion_matrix(yts, yp))\n",
    "print(dfcm)\n",
    "print('\\n')"
   ]
  },
  {
   "cell_type": "markdown",
   "metadata": {},
   "source": [
    "### Random Forest"
   ]
  },
  {
   "cell_type": "code",
   "execution_count": 31,
   "metadata": {},
   "outputs": [],
   "source": [
    "from sklearn.ensemble import RandomForestClassifier\n",
    "\n",
    "MLRF = RandomForestClassifier()"
   ]
  },
  {
   "cell_type": "code",
   "execution_count": 32,
   "metadata": {},
   "outputs": [
    {
     "data": {
      "text/plain": [
       "RandomForestClassifier(bootstrap=True, ccp_alpha=0.0, class_weight=None,\n",
       "                       criterion='gini', max_depth=None, max_features='auto',\n",
       "                       max_leaf_nodes=None, max_samples=None,\n",
       "                       min_impurity_decrease=0.0, min_impurity_split=None,\n",
       "                       min_samples_leaf=1, min_samples_split=2,\n",
       "                       min_weight_fraction_leaf=0.0, n_estimators=100,\n",
       "                       n_jobs=None, oob_score=False, random_state=None,\n",
       "                       verbose=0, warm_start=False)"
      ]
     },
     "execution_count": 32,
     "metadata": {},
     "output_type": "execute_result"
    }
   ],
   "source": [
    "MLRF.fit(xtr,ytr)"
   ]
  },
  {
   "cell_type": "code",
   "execution_count": 33,
   "metadata": {},
   "outputs": [
    {
     "name": "stdout",
     "output_type": "stream",
     "text": [
      "[0 0 0 ... 0 0 0]\n",
      "Base Score (training) = 0.93230885264448\n",
      "Base Score (test) = 0.8802790346907994\n",
      "Random Forest Base Report\n",
      "              precision    recall  f1-score   support\n",
      "\n",
      "           0       0.90      0.96      0.93      4648\n",
      "           1       0.53      0.28      0.37       656\n",
      "\n",
      "    accuracy                           0.88      5304\n",
      "   macro avg       0.72      0.62      0.65      5304\n",
      "weighted avg       0.86      0.88      0.86      5304\n",
      "\n",
      "          Pred 0  Pred 1\n",
      "Actual 0    4484     164\n",
      "Actual 1     471     185\n",
      "\n",
      "\n"
     ]
    }
   ],
   "source": [
    "# Base Score RF\n",
    "yp = MLRF.predict(xts)\n",
    "print(yp)\n",
    "print(f'Base Score (training) = {MLRF.score(xtr,ytr)}')\n",
    "print(f'Base Score (test) = {MLRF.score(xts,yts)}')\n",
    "\n",
    "print('Random Forest Base Report')\n",
    "print(classification_report(yts, yp))\n",
    "cm = confusion_matrix(yts, yp,  labels= [0,1])\n",
    "dfcm = pd.DataFrame(\n",
    "    cm, columns=['Pred 0','Pred 1'], index= ['Actual 0', 'Actual 1']\n",
    ")\n",
    "print(dfcm)\n",
    "print('\\n')"
   ]
  },
  {
   "cell_type": "markdown",
   "metadata": {},
   "source": [
    "### Gradient Boosting Clasifier"
   ]
  },
  {
   "cell_type": "code",
   "execution_count": 34,
   "metadata": {},
   "outputs": [],
   "source": [
    "from sklearn.ensemble import GradientBoostingClassifier"
   ]
  },
  {
   "cell_type": "code",
   "execution_count": 35,
   "metadata": {},
   "outputs": [
    {
     "data": {
      "text/plain": [
       "GradientBoostingClassifier(ccp_alpha=0.0, criterion='friedman_mse', init=None,\n",
       "                           learning_rate=0.1, loss='deviance', max_depth=3,\n",
       "                           max_features=None, max_leaf_nodes=None,\n",
       "                           min_impurity_decrease=0.0, min_impurity_split=None,\n",
       "                           min_samples_leaf=1, min_samples_split=2,\n",
       "                           min_weight_fraction_leaf=0.0, n_estimators=100,\n",
       "                           n_iter_no_change=None, presort='deprecated',\n",
       "                           random_state=None, subsample=1.0, tol=0.0001,\n",
       "                           validation_fraction=0.1, verbose=0,\n",
       "                           warm_start=False)"
      ]
     },
     "execution_count": 35,
     "metadata": {},
     "output_type": "execute_result"
    }
   ],
   "source": [
    "MLGB = GradientBoostingClassifier()\n",
    "MLGB.fit(xtr, ytr)"
   ]
  },
  {
   "cell_type": "code",
   "execution_count": 36,
   "metadata": {},
   "outputs": [
    {
     "name": "stdout",
     "output_type": "stream",
     "text": [
      "[0 0 0 ... 0 0 0]\n",
      "Base Score (training) = 0.8827189591779014\n",
      "Base Score (test) = 0.8776395173453997\n",
      "BACC Score (test) = 0.8776395173453997\n",
      "Gradient Boosting Base Report\n",
      "              precision    recall  f1-score   support\n",
      "\n",
      "           0       0.88      1.00      0.93      4648\n",
      "           1       1.00      0.01      0.02       656\n",
      "\n",
      "    accuracy                           0.88      5304\n",
      "   macro avg       0.94      0.51      0.48      5304\n",
      "weighted avg       0.89      0.88      0.82      5304\n",
      "\n",
      "          Pred 0  Pred 1\n",
      "Actual 0    4648       0\n",
      "Actual 1     649       7\n",
      "\n",
      "\n"
     ]
    }
   ],
   "source": [
    "# Base Score GB\n",
    "yp = MLGB.predict(xts)\n",
    "print(yp)\n",
    "print(f'Base Score (training) = {MLGB.score(xtr,ytr)}')\n",
    "print(f'Base Score (test) = {MLGB.score(xts,yts)}')\n",
    "print(f'BACC Score (test) = {MLGB.score(xts,yts)}')\n",
    "\n",
    "print('Gradient Boosting Base Report')\n",
    "print(classification_report(yts, yp))\n",
    "cm = confusion_matrix(yts, yp,  labels= [0,1])\n",
    "dfcm = pd.DataFrame(\n",
    "    cm, columns=['Pred 0','Pred 1'], index= ['Actual 0', 'Actual 1']\n",
    ")\n",
    "print(dfcm)\n",
    "print('\\n')"
   ]
  },
  {
   "cell_type": "markdown",
   "metadata": {},
   "source": [
    "### Balanced Accuracy Score"
   ]
  },
  {
   "cell_type": "code",
   "execution_count": 37,
   "metadata": {},
   "outputs": [],
   "source": [
    "from sklearn.metrics import balanced_accuracy_score\n",
    "\n",
    "def BAC(model, title):\n",
    "    bac = balanced_accuracy_score(yts,model.predict(xts))\n",
    "    print(f'Balanced Accuracy Score {title} = {bac}')\n",
    "    print('\\n')"
   ]
  },
  {
   "cell_type": "code",
   "execution_count": 38,
   "metadata": {},
   "outputs": [
    {
     "name": "stdout",
     "output_type": "stream",
     "text": [
      "Balanced Accuracy Score Logistic Regression = 0.5\n",
      "\n",
      "\n",
      "Balanced Accuracy Score Decision Tree = 0.6232040531463834\n",
      "\n",
      "\n",
      "Balanced Accuracy Score K-Nearest Neighbor = 0.5710861739641493\n",
      "\n",
      "\n",
      "Balanced Accuracy Score Random Forest = 0.6233641010033164\n",
      "\n",
      "\n",
      "Balanced Accuracy Score Gradient Boosting = 0.5053353658536586\n",
      "\n",
      "\n"
     ]
    }
   ],
   "source": [
    "# Balanced Accuracy Score\n",
    "BAC(MLLR,'Logistic Regression')\n",
    "BAC(MLDT,'Decision Tree')\n",
    "BAC(MLKN,'K-Nearest Neighbor')\n",
    "BAC(MLRF,'Random Forest')\n",
    "BAC(MLGB,'Gradient Boosting')"
   ]
  },
  {
   "cell_type": "markdown",
   "metadata": {},
   "source": [
    "### Matthew CorrCoef (MCC)"
   ]
  },
  {
   "cell_type": "code",
   "execution_count": 39,
   "metadata": {},
   "outputs": [],
   "source": [
    "from sklearn.metrics import matthews_corrcoef\n",
    "def MCC (model, title):\n",
    "    mcc = matthews_corrcoef(yts,model.predict(xts))\n",
    "    print(f'MCC {title} = {mcc}')\n",
    "    print('\\n')"
   ]
  },
  {
   "cell_type": "code",
   "execution_count": 40,
   "metadata": {},
   "outputs": [
    {
     "name": "stderr",
     "output_type": "stream",
     "text": [
      "c:\\users\\user\\appdata\\local\\programs\\python\\python38\\lib\\site-packages\\sklearn\\metrics\\_classification.py:900: RuntimeWarning: invalid value encountered in double_scalars\n",
      "  mcc = cov_ytyp / np.sqrt(cov_ytyt * cov_ypyp)\n"
     ]
    },
    {
     "name": "stdout",
     "output_type": "stream",
     "text": [
      "MCC Logistic Regression = 0.0\n",
      "\n",
      "\n",
      "MCC Decision Tree = 0.30756294925709177\n",
      "\n",
      "\n",
      "MCC K-Nearest Neighbor = 0.21331639600492194\n",
      "\n",
      "\n",
      "MCC Random Forest = 0.3276191131636318\n",
      "\n",
      "\n",
      "MCC Gradient Boosting = 0.09676430318603968\n",
      "\n",
      "\n"
     ]
    }
   ],
   "source": [
    "MCC(MLLR,'Logistic Regression')\n",
    "MCC(MLDT,'Decision Tree')\n",
    "MCC(MLKN,'K-Nearest Neighbor')\n",
    "MCC(MLRF,'Random Forest')\n",
    "MCC(MLGB,'Gradient Boosting')"
   ]
  },
  {
   "cell_type": "markdown",
   "metadata": {},
   "source": [
    "### ROC AUC"
   ]
  },
  {
   "cell_type": "code",
   "execution_count": 41,
   "metadata": {},
   "outputs": [],
   "source": [
    "from sklearn.metrics import roc_curve, roc_auc_score"
   ]
  },
  {
   "cell_type": "code",
   "execution_count": 42,
   "metadata": {},
   "outputs": [],
   "source": [
    "def ROC(model,title):\n",
    "    fpr, tpr, thres = roc_curve(yts, model.predict_proba(xts)[:,1])\n",
    "    roc_auc_score(yts,yp)\n",
    "    plt.plot(fpr, tpr)\n",
    "    plt.plot([0,1], [0,1], 'r:')\n",
    "    plt.xlabel('False Positive rate')\n",
    "    plt.ylabel('True Positive rate')\n",
    "    plt.title(f'ROC {title}')\n",
    "\n",
    "def AUC(model, title):\n",
    "    auc = roc_auc_score(yts,model.predict_proba(xts)[:,1])\n",
    "    print(f'ROC AUC Score {title} = {auc}')\n",
    "    print('\\n')\n",
    "    "
   ]
  },
  {
   "cell_type": "code",
   "execution_count": 43,
   "metadata": {},
   "outputs": [
    {
     "data": {
      "image/png": "[encoded data removed]",
      "text/plain": [
       "<Figure size 1440x288 with 5 Axes>"
      ]
     },
     "metadata": {
      "needs_background": "light"
     },
     "output_type": "display_data"
    }
   ],
   "source": [
    "plt.figure(figsize=(20,4))\n",
    "\n",
    "plt.subplot(151)\n",
    "ROC(MLLR,'Logistic Regression')\n",
    "\n",
    "plt.subplot(152)\n",
    "ROC(MLDT,'Decision Tree')\n",
    "\n",
    "plt.subplot(153)\n",
    "ROC(MLKN,'K-Nearest Neighbor')\n",
    "\n",
    "plt.subplot(154)\n",
    "ROC(MLRF,'Random Forest')\n",
    "\n",
    "plt.subplot(155)\n",
    "ROC(MLGB,'Gradient Boosting')\n",
    "\n",
    "plt.show()\n"
   ]
  },
  {
   "cell_type": "code",
   "execution_count": 44,
   "metadata": {},
   "outputs": [
    {
     "name": "stdout",
     "output_type": "stream",
     "text": [
      "ROC AUC Score Logistic Regression = 0.5118653512132152\n",
      "\n",
      "\n",
      "ROC AUC Score Decision Tree = 0.7350583190777046\n",
      "\n",
      "\n",
      "ROC AUC Score K-Nearest Neighbor = 0.7130514107825029\n",
      "\n",
      "\n",
      "ROC AUC Score Random Forest = 0.787600915421267\n",
      "\n",
      "\n",
      "ROC AUC Score Gradient Boosting = 0.5965500175790268\n",
      "\n",
      "\n"
     ]
    }
   ],
   "source": [
    "#AUC Score\n",
    "AUC(MLLR,'Logistic Regression')\n",
    "AUC(MLDT,'Decision Tree')\n",
    "AUC(MLKN,'K-Nearest Neighbor')\n",
    "AUC(MLRF,'Random Forest')\n",
    "AUC(MLGB,'Gradient Boosting')"
   ]
  },
  {
   "cell_type": "markdown",
   "metadata": {},
   "source": [
    "# Precision Recall Curve"
   ]
  },
  {
   "cell_type": "code",
   "execution_count": 45,
   "metadata": {},
   "outputs": [],
   "source": [
    "from sklearn.metrics import precision_recall_curve\n",
    "from sklearn.metrics import plot_precision_recall_curve\n",
    "\n",
    "def PR (model,title) :\n",
    "    pr = plot_precision_recall_curve(model, xts, yts)\n",
    "    pr.ax_.set_title(f' Precision-Recall curve {title} ')"
   ]
  },
  {
   "cell_type": "code",
   "execution_count": 46,
   "metadata": {},
   "outputs": [
    {
     "data": {
      "image/png": "[encoded data removed]",
      "text/plain": [
       "<Figure size 432x288 with 1 Axes>"
      ]
     },
     "metadata": {
      "needs_background": "light"
     },
     "output_type": "display_data"
    },
    {
     "data": {
      "image/png": "[encoded data removed]",
      "text/plain": [
       "<Figure size 432x288 with 1 Axes>"
      ]
     },
     "metadata": {
      "needs_background": "light"
     },
     "output_type": "display_data"
    },
    {
     "data": {
      "image/png": "[encoded data removed]",
      "text/plain": [
       "<Figure size 432x288 with 1 Axes>"
      ]
     },
     "metadata": {
      "needs_background": "light"
     },
     "output_type": "display_data"
    },
    {
     "data": {
      "image/png": "[encoded data removed]",
      "text/plain": [
       "<Figure size 432x288 with 1 Axes>"
      ]
     },
     "metadata": {
      "needs_background": "light"
     },
     "output_type": "display_data"
    },
    {
     "data": {
      "image/png": "[encoded data removed]",
      "text/plain": [
       "<Figure size 432x288 with 1 Axes>"
      ]
     },
     "metadata": {
      "needs_background": "light"
     },
     "output_type": "display_data"
    }
   ],
   "source": [
    "PR(MLLR,'Logistic Regression')\n",
    "PR(MLDT,'Decision Tree')\n",
    "PR(MLKN,'K-Nearest Neighbor')\n",
    "PR(MLRF,'Random Forest')\n",
    "PR(MLGB,'Gradient Boosting')"
   ]
  },
  {
   "cell_type": "markdown",
   "metadata": {},
   "source": [
    "From the test, we can conclude that either Random Forest or Decision Tree model give the best result ( ROC AUC SCORE, Precision, Recall, BACC)\n",
    "\n",
    "For futher improvement, we will check how optimum can this two model reach with HyperparameterTuning ( Grid Search CV)"
   ]
  },
  {
   "cell_type": "markdown",
   "metadata": {},
   "source": [
    "### Hyperparameter Tuning (Grid Search CV)"
   ]
  },
  {
   "cell_type": "code",
   "execution_count": 44,
   "metadata": {},
   "outputs": [],
   "source": [
    "from sklearn.model_selection import GridSearchCV\n",
    "\n",
    "paramRF = {\n",
    "    'max_depth' : [5, 15, 25, None],\n",
    "    'min_samples_split' : [2, 4, 5, 10],\n",
    "    'min_samples_leaf' : [1, 2, 4, 5, 10],\n",
    "    'n_estimators': [100, 200, 300],\n",
    "    'class_weight' : [{0:1, 1:2},{0:1, 1:3},{0:1, 1:5}]}\n"
   ]
  },
  {
   "cell_type": "code",
   "execution_count": 45,
   "metadata": {},
   "outputs": [
    {
     "name": "stdout",
     "output_type": "stream",
     "text": [
      "{'class_weight': {0: 1, 1: 5}, 'max_depth': None, 'min_samples_leaf': 1, 'min_samples_split': 2, 'n_estimators': 200}\n",
      "0.42529304766365106\n"
     ]
    }
   ],
   "source": [
    "# F1-score\n",
    "\n",
    "GSCV1 = GridSearchCV(\n",
    "    MLRF,\n",
    "    param_grid = paramRF,\n",
    "    scoring='f1', \n",
    "    cv=5, \n",
    "    n_jobs = -1)\n",
    "\n",
    "GSCV1.fit(xtr, ytr)\n",
    "print(GSCV1.best_params_)\n",
    "print(GSCV1.best_score_)"
   ]
  },
  {
   "cell_type": "code",
   "execution_count": 50,
   "metadata": {},
   "outputs": [
    {
     "name": "stdout",
     "output_type": "stream",
     "text": [
      "GSCV F1 Score Report\n",
      "              precision    recall  f1-score   support\n",
      "\n",
      "           0       0.92      0.91      0.92      4648\n",
      "           1       0.42      0.46      0.44       656\n",
      "\n",
      "    accuracy                           0.85      5304\n",
      "   macro avg       0.67      0.69      0.68      5304\n",
      "weighted avg       0.86      0.85      0.86      5304\n",
      "\n",
      "          Pred 0  Pred 1\n",
      "Actual 0    4228     420\n",
      "Actual 1     354     302\n",
      "\n",
      "\n",
      "Balanced Accuracy Score GSCV1 = 0.6850022039377021\n",
      "\n",
      "\n"
     ]
    },
    {
     "data": {
      "image/png": "[encoded data removed]",
      "text/plain": [
       "<Figure size 432x288 with 1 Axes>"
      ]
     },
     "metadata": {
      "needs_background": "light"
     },
     "output_type": "display_data"
    },
    {
     "name": "stdout",
     "output_type": "stream",
     "text": [
      "ROC AUC Score GSCV1 = 0.7841813683304647\n",
      "\n",
      "\n"
     ]
    },
    {
     "data": {
      "image/png": "[encoded data removed]",
      "text/plain": [
       "<Figure size 432x288 with 1 Axes>"
      ]
     },
     "metadata": {
      "needs_background": "light"
     },
     "output_type": "display_data"
    }
   ],
   "source": [
    "MLRF1B = RandomForestClassifier(\n",
    "    max_depth = None,\n",
    "    min_samples_split = 2,\n",
    "    min_samples_leaf = 1,\n",
    "    n_estimators = 100,\n",
    "    class_weight = {0: 1, 1: 5}\n",
    ")\n",
    "MLRF1B.fit(xtr,ytr)\n",
    "\n",
    "print('GSCV F1 Score Report')\n",
    "print(classification_report(yts, MLRF1B.predict(xts)))\n",
    "cm = confusion_matrix(yts, MLRF1B.predict(xts),  labels= [0,1])\n",
    "dfcm = pd.DataFrame(\n",
    "    cm, columns=['Pred 0','Pred 1'], index= ['Actual 0', 'Actual 1']\n",
    ")\n",
    "print(dfcm)\n",
    "print('\\n')\n",
    "\n",
    "BAC(MLRF1B,'GSCV1')\n",
    "\n",
    "ROC(MLRF1B,'GSCV1')\n",
    "plt.show()\n",
    "\n",
    "AUC(MLRF1B,'GSCV1')\n",
    "\n",
    "PR(MLRF1B,'GSCV1')"
   ]
  },
  {
   "cell_type": "code",
   "execution_count": 46,
   "metadata": {},
   "outputs": [
    {
     "name": "stdout",
     "output_type": "stream",
     "text": [
      "{'class_weight': {0: 1, 1: 2}, 'max_depth': None, 'min_samples_leaf': 1, 'min_samples_split': 2, 'n_estimators': 300}\n",
      "0.7820442934878143\n"
     ]
    }
   ],
   "source": [
    "# ROC AUC\n",
    "\n",
    "GSCV2 = GridSearchCV(\n",
    "    MLRF,\n",
    "    param_grid = paramRF, \n",
    "    scoring='roc_auc', \n",
    "    cv=5, \n",
    "    n_jobs = -1)\n",
    "\n",
    "GSCV2.fit(xtr, ytr)\n",
    "print(GSCV2.best_params_)\n",
    "print(GSCV2.best_score_)"
   ]
  },
  {
   "cell_type": "code",
   "execution_count": 48,
   "metadata": {},
   "outputs": [
    {
     "name": "stdout",
     "output_type": "stream",
     "text": [
      "GSCV ROC AUC Score Report\n",
      "              precision    recall  f1-score   support\n",
      "\n",
      "           0       0.91      0.94      0.93      4648\n",
      "           1       0.47      0.36      0.41       656\n",
      "\n",
      "    accuracy                           0.87      5304\n",
      "   macro avg       0.69      0.65      0.67      5304\n",
      "weighted avg       0.86      0.87      0.86      5304\n",
      "\n",
      "          Pred 0  Pred 1\n",
      "Actual 0    4386     262\n",
      "Actual 1     419     237\n",
      "\n",
      "\n",
      "Balanced Accuracy Score GSCV2 = 0.652456078670081\n",
      "\n",
      "\n"
     ]
    },
    {
     "data": {
      "image/png": "[encoded data removed]",
      "text/plain": [
       "<Figure size 432x288 with 1 Axes>"
      ]
     },
     "metadata": {
      "needs_background": "light"
     },
     "output_type": "display_data"
    },
    {
     "name": "stdout",
     "output_type": "stream",
     "text": [
      "ROC AUC Score GSCV2 = 0.7922883826245749\n",
      "\n",
      "\n"
     ]
    },
    {
     "data": {
      "image/png": "[encoded data removed]",
      "text/plain": [
       "<Figure size 432x288 with 1 Axes>"
      ]
     },
     "metadata": {
      "needs_background": "light"
     },
     "output_type": "display_data"
    }
   ],
   "source": [
    "MLRF2B = RandomForestClassifier(\n",
    "    max_depth = None,\n",
    "    min_samples_split = 2,\n",
    "    min_samples_leaf = 1,\n",
    "    n_estimators = 300,\n",
    "    class_weight = {0: 1, 1: 2}\n",
    ")\n",
    "MLRF2B.fit(xtr,ytr)\n",
    "\n",
    "print('GSCV ROC AUC Score Report')\n",
    "print(classification_report(yts, MLRF2B.predict(xts)))\n",
    "cm = confusion_matrix(yts, MLRF2B.predict(xts),  labels= [0,1])\n",
    "dfcm = pd.DataFrame(\n",
    "    cm, columns=['Pred 0','Pred 1'], index= ['Actual 0', 'Actual 1']\n",
    ")\n",
    "print(dfcm)\n",
    "print('\\n')\n",
    "\n",
    "BAC(MLRF2B,'GSCV2')\n",
    "\n",
    "ROC(MLRF2B,'GSCV2')\n",
    "plt.show()\n",
    "\n",
    "AUC(MLRF2B,'GSCV2')\n",
    "\n",
    "PR(MLRF2B,'GSCV2')"
   ]
  },
  {
   "cell_type": "code",
   "execution_count": 49,
   "metadata": {},
   "outputs": [
    {
     "name": "stdout",
     "output_type": "stream",
     "text": [
      "{'class_weight': {0: 1, 1: 2}, 'max_depth': 15, 'min_samples_leaf': 10, 'min_samples_split': 4, 'n_estimators': 100}\n",
      "0.8399999999999999\n"
     ]
    }
   ],
   "source": [
    "# Precision Recall\n",
    "\n",
    "GSCV3 = GridSearchCV(\n",
    "    MLRF,\n",
    "    param_grid = paramRF, \n",
    "    scoring=['precision', 'recall'],\n",
    "    refit = 'precision',\n",
    "    cv=5, \n",
    "    n_jobs = -1)\n",
    "\n",
    "GSCV3.fit(xtr, ytr)\n",
    "print(GSCV3.best_params_)\n",
    "print(GSCV3.best_score_)"
   ]
  },
  {
   "cell_type": "code",
   "execution_count": 49,
   "metadata": {},
   "outputs": [
    {
     "name": "stdout",
     "output_type": "stream",
     "text": [
      "GSCV Precision Recall Score Report\n",
      "              precision    recall  f1-score   support\n",
      "\n",
      "           0       0.88      1.00      0.93      4648\n",
      "           1       0.80      0.01      0.02       656\n",
      "\n",
      "    accuracy                           0.88      5304\n",
      "   macro avg       0.84      0.51      0.48      5304\n",
      "weighted avg       0.87      0.88      0.82      5304\n",
      "\n",
      "          Pred 0  Pred 1\n",
      "Actual 0    4646       2\n",
      "Actual 1     648       8\n",
      "\n",
      "\n",
      "Balanced Accuracy Score GSCV3 = 0.505882414676126\n",
      "\n",
      "\n"
     ]
    },
    {
     "data": {
      "image/png": "[encoded data removed]",
      "text/plain": [
       "<Figure size 432x288 with 1 Axes>"
      ]
     },
     "metadata": {
      "needs_background": "light"
     },
     "output_type": "display_data"
    },
    {
     "name": "stdout",
     "output_type": "stream",
     "text": [
      "ROC AUC Score GSCV3 = 0.7163382952541876\n",
      "\n",
      "\n"
     ]
    },
    {
     "data": {
      "image/png": "[encoded data removed]",
      "text/plain": [
       "<Figure size 432x288 with 1 Axes>"
      ]
     },
     "metadata": {
      "needs_background": "light"
     },
     "output_type": "display_data"
    }
   ],
   "source": [
    "MLRF3B = RandomForestClassifier(\n",
    "    max_depth = 15,\n",
    "    min_samples_split = 4,\n",
    "    min_samples_leaf = 10,\n",
    "    n_estimators = 100,\n",
    "    class_weight = {0: 1, 1: 2}\n",
    ")\n",
    "MLRF3B.fit(xtr,ytr)\n",
    "\n",
    "print('GSCV Precision Recall Score Report')\n",
    "print(classification_report(yts, MLRF3B.predict(xts)))\n",
    "cm = confusion_matrix(yts, MLRF3B.predict(xts),  labels= [0,1])\n",
    "dfcm = pd.DataFrame(\n",
    "    cm, columns=['Pred 0','Pred 1'], index= ['Actual 0', 'Actual 1']\n",
    ")\n",
    "print(dfcm)\n",
    "print('\\n')\n",
    "\n",
    "BAC(MLRF3B,'GSCV3')\n",
    "\n",
    "ROC(MLRF3B,'GSCV3')\n",
    "plt.show()\n",
    "\n",
    "AUC(MLRF3B,'GSCV3')\n",
    "\n",
    "PR(MLRF3B,'GSCV3')\n"
   ]
  },
  {
   "cell_type": "markdown",
   "metadata": {},
   "source": [
    "__Comment__ : Based on Hyperparameter Tuning, it seem that MLRF1B is the best model choice with \n",
    "   - Balanced Accuracy Score GSCV1 = 0.68\n",
    "   - ROC AUC Score GSCV1 = 0.78\n",
    "   - AP = 0.39"
   ]
  },
  {
   "cell_type": "markdown",
   "metadata": {},
   "source": [
    "### Cross Validation"
   ]
  },
  {
   "cell_type": "code",
   "execution_count": 51,
   "metadata": {},
   "outputs": [],
   "source": [
    "from sklearn.model_selection import KFold\n",
    "k = KFold(n_splits = 10)"
   ]
  },
  {
   "cell_type": "code",
   "execution_count": 52,
   "metadata": {},
   "outputs": [],
   "source": [
    "reporttrain = []\n",
    "reportvalid = []\n",
    "\n",
    "for train,validate in k.split(dftrain):\n",
    "    xtrain = dftrain.iloc[train][list(xtr.columns.values)]\n",
    "    ytrain = dftrain.iloc[train]['target']\n",
    "    xvalid = dftrain.iloc[validate][list(xtr.columns.values)]\n",
    "    yvalid = dftrain.iloc[validate]['target']\n",
    "    \n",
    "    model = MLRF1B\n",
    "    model.fit(xtrain,ytrain)\n",
    "    \n",
    "    ypt = model.predict(xtrain)\n",
    "    yppt = model.predict_proba(xtrain)\n",
    "    \n",
    "    scoretrain = {\n",
    "        'f1_score_train' : f1_score(ytrain,ypt, pos_label = 1),\n",
    "        'Recall_train' : recall_score(ytrain,ypt, pos_label = 1),\n",
    "        'Precision_train' : precision_score(ytrain,ypt, pos_label = 1),\n",
    "        'BAC_train' :balanced_accuracy_score(ytrain,ypt),\n",
    "        'ROC_AUC_train' : roc_auc_score(ytrain,yppt[:,1]),\n",
    "        'MCC' : matthews_corrcoef(ytrain, ypt)\n",
    "    }\n",
    "    reporttrain.append(scoretrain)\n",
    "    \n",
    "    ypv = model.predict(xvalid)\n",
    "    yppv = model.predict_proba(xvalid)\n",
    "    scorevalid = {\n",
    "        'f1_score_train' : f1_score(yvalid,ypv, pos_label = 1),\n",
    "        'Recall_train' : recall_score(yvalid,ypv, pos_label = 1),\n",
    "        'Precision_train' : precision_score(yvalid,ypv, pos_label = 1),\n",
    "        'BAC_train' :balanced_accuracy_score(yvalid,ypv),\n",
    "        'ROC_AUC_train' : roc_auc_score(yvalid,yppv[:,1]),\n",
    "        'MCC' : matthews_corrcoef(yvalid, ypv)\n",
    "    }\n",
    "    reportvalid.append(scorevalid)\n"
   ]
  },
  {
   "cell_type": "code",
   "execution_count": 53,
   "metadata": {},
   "outputs": [
    {
     "data": {
      "text/html": [
       "<div>\n",
       "<style scoped>\n",
       "    .dataframe tbody tr th:only-of-type {\n",
       "        vertical-align: middle;\n",
       "    }\n",
       "\n",
       "    .dataframe tbody tr th {\n",
       "        vertical-align: top;\n",
       "    }\n",
       "\n",
       "    .dataframe thead th {\n",
       "        text-align: right;\n",
       "    }\n",
       "</style>\n",
       "<table border=\"1\" class=\"dataframe\">\n",
       "  <thead>\n",
       "    <tr style=\"text-align: right;\">\n",
       "      <th></th>\n",
       "      <th>f1_score_train</th>\n",
       "      <th>Recall_train</th>\n",
       "      <th>Precision_train</th>\n",
       "      <th>BAC_train</th>\n",
       "      <th>ROC_AUC_train</th>\n",
       "      <th>MCC</th>\n",
       "    </tr>\n",
       "  </thead>\n",
       "  <tbody>\n",
       "    <tr>\n",
       "      <th>0</th>\n",
       "      <td>0.693537</td>\n",
       "      <td>0.840299</td>\n",
       "      <td>0.590417</td>\n",
       "      <td>0.880760</td>\n",
       "      <td>0.962557</td>\n",
       "      <td>0.657405</td>\n",
       "    </tr>\n",
       "    <tr>\n",
       "      <th>1</th>\n",
       "      <td>0.691309</td>\n",
       "      <td>0.842267</td>\n",
       "      <td>0.586239</td>\n",
       "      <td>0.880904</td>\n",
       "      <td>0.962316</td>\n",
       "      <td>0.655222</td>\n",
       "    </tr>\n",
       "    <tr>\n",
       "      <th>2</th>\n",
       "      <td>0.694218</td>\n",
       "      <td>0.842499</td>\n",
       "      <td>0.590321</td>\n",
       "      <td>0.881741</td>\n",
       "      <td>0.962866</td>\n",
       "      <td>0.658371</td>\n",
       "    </tr>\n",
       "    <tr>\n",
       "      <th>3</th>\n",
       "      <td>0.689478</td>\n",
       "      <td>0.834372</td>\n",
       "      <td>0.587461</td>\n",
       "      <td>0.878126</td>\n",
       "      <td>0.962562</td>\n",
       "      <td>0.653129</td>\n",
       "    </tr>\n",
       "    <tr>\n",
       "      <th>4</th>\n",
       "      <td>0.700274</td>\n",
       "      <td>0.838216</td>\n",
       "      <td>0.601317</td>\n",
       "      <td>0.881294</td>\n",
       "      <td>0.963357</td>\n",
       "      <td>0.663941</td>\n",
       "    </tr>\n",
       "    <tr>\n",
       "      <th>5</th>\n",
       "      <td>0.696490</td>\n",
       "      <td>0.846222</td>\n",
       "      <td>0.591780</td>\n",
       "      <td>0.883866</td>\n",
       "      <td>0.963320</td>\n",
       "      <td>0.661422</td>\n",
       "    </tr>\n",
       "    <tr>\n",
       "      <th>6</th>\n",
       "      <td>0.692768</td>\n",
       "      <td>0.840369</td>\n",
       "      <td>0.589269</td>\n",
       "      <td>0.880587</td>\n",
       "      <td>0.962919</td>\n",
       "      <td>0.656585</td>\n",
       "    </tr>\n",
       "    <tr>\n",
       "      <th>7</th>\n",
       "      <td>0.696231</td>\n",
       "      <td>0.831788</td>\n",
       "      <td>0.598665</td>\n",
       "      <td>0.878367</td>\n",
       "      <td>0.962573</td>\n",
       "      <td>0.659507</td>\n",
       "    </tr>\n",
       "    <tr>\n",
       "      <th>8</th>\n",
       "      <td>0.696842</td>\n",
       "      <td>0.841711</td>\n",
       "      <td>0.594519</td>\n",
       "      <td>0.882163</td>\n",
       "      <td>0.963416</td>\n",
       "      <td>0.661157</td>\n",
       "    </tr>\n",
       "    <tr>\n",
       "      <th>9</th>\n",
       "      <td>0.693625</td>\n",
       "      <td>0.837659</td>\n",
       "      <td>0.591856</td>\n",
       "      <td>0.879799</td>\n",
       "      <td>0.962796</td>\n",
       "      <td>0.657204</td>\n",
       "    </tr>\n",
       "  </tbody>\n",
       "</table>\n",
       "</div>"
      ],
      "text/plain": [
       "   f1_score_train  Recall_train  Precision_train  BAC_train  ROC_AUC_train  \\\n",
       "0        0.693537      0.840299         0.590417   0.880760       0.962557   \n",
       "1        0.691309      0.842267         0.586239   0.880904       0.962316   \n",
       "2        0.694218      0.842499         0.590321   0.881741       0.962866   \n",
       "3        0.689478      0.834372         0.587461   0.878126       0.962562   \n",
       "4        0.700274      0.838216         0.601317   0.881294       0.963357   \n",
       "5        0.696490      0.846222         0.591780   0.883866       0.963320   \n",
       "6        0.692768      0.840369         0.589269   0.880587       0.962919   \n",
       "7        0.696231      0.831788         0.598665   0.878367       0.962573   \n",
       "8        0.696842      0.841711         0.594519   0.882163       0.963416   \n",
       "9        0.693625      0.837659         0.591856   0.879799       0.962796   \n",
       "\n",
       "        MCC  \n",
       "0  0.657405  \n",
       "1  0.655222  \n",
       "2  0.658371  \n",
       "3  0.653129  \n",
       "4  0.663941  \n",
       "5  0.661422  \n",
       "6  0.656585  \n",
       "7  0.659507  \n",
       "8  0.661157  \n",
       "9  0.657204  "
      ]
     },
     "metadata": {},
     "output_type": "display_data"
    },
    {
     "data": {
      "text/plain": [
       "f1_score_train     0.694477\n",
       "Recall_train       0.839540\n",
       "Precision_train    0.592184\n",
       "BAC_train          0.880761\n",
       "ROC_AUC_train      0.962868\n",
       "MCC                0.658394\n",
       "dtype: float64"
      ]
     },
     "execution_count": 53,
     "metadata": {},
     "output_type": "execute_result"
    }
   ],
   "source": [
    "dfreporttrain =pd.DataFrame(reporttrain)\n",
    "\n",
    "display(dfreporttrain)\n",
    "dfreporttrain.mean()"
   ]
  },
  {
   "cell_type": "code",
   "execution_count": 54,
   "metadata": {},
   "outputs": [
    {
     "data": {
      "text/html": [
       "<div>\n",
       "<style scoped>\n",
       "    .dataframe tbody tr th:only-of-type {\n",
       "        vertical-align: middle;\n",
       "    }\n",
       "\n",
       "    .dataframe tbody tr th {\n",
       "        vertical-align: top;\n",
       "    }\n",
       "\n",
       "    .dataframe thead th {\n",
       "        text-align: right;\n",
       "    }\n",
       "</style>\n",
       "<table border=\"1\" class=\"dataframe\">\n",
       "  <thead>\n",
       "    <tr style=\"text-align: right;\">\n",
       "      <th></th>\n",
       "      <th>f1_score_train</th>\n",
       "      <th>Recall_train</th>\n",
       "      <th>Precision_train</th>\n",
       "      <th>BAC_train</th>\n",
       "      <th>ROC_AUC_train</th>\n",
       "      <th>MCC</th>\n",
       "    </tr>\n",
       "  </thead>\n",
       "  <tbody>\n",
       "    <tr>\n",
       "      <th>0</th>\n",
       "      <td>0.422383</td>\n",
       "      <td>0.469880</td>\n",
       "      <td>0.383607</td>\n",
       "      <td>0.684753</td>\n",
       "      <td>0.793641</td>\n",
       "      <td>0.338971</td>\n",
       "    </tr>\n",
       "    <tr>\n",
       "      <th>1</th>\n",
       "      <td>0.439689</td>\n",
       "      <td>0.459350</td>\n",
       "      <td>0.421642</td>\n",
       "      <td>0.688363</td>\n",
       "      <td>0.787922</td>\n",
       "      <td>0.363068</td>\n",
       "    </tr>\n",
       "    <tr>\n",
       "      <th>2</th>\n",
       "      <td>0.441696</td>\n",
       "      <td>0.502008</td>\n",
       "      <td>0.394322</td>\n",
       "      <td>0.699749</td>\n",
       "      <td>0.789934</td>\n",
       "      <td>0.360675</td>\n",
       "    </tr>\n",
       "    <tr>\n",
       "      <th>3</th>\n",
       "      <td>0.484429</td>\n",
       "      <td>0.507246</td>\n",
       "      <td>0.463576</td>\n",
       "      <td>0.709745</td>\n",
       "      <td>0.816136</td>\n",
       "      <td>0.403880</td>\n",
       "    </tr>\n",
       "    <tr>\n",
       "      <th>4</th>\n",
       "      <td>0.411111</td>\n",
       "      <td>0.472340</td>\n",
       "      <td>0.363934</td>\n",
       "      <td>0.684739</td>\n",
       "      <td>0.773240</td>\n",
       "      <td>0.330510</td>\n",
       "    </tr>\n",
       "    <tr>\n",
       "      <th>5</th>\n",
       "      <td>0.441696</td>\n",
       "      <td>0.482625</td>\n",
       "      <td>0.407166</td>\n",
       "      <td>0.692441</td>\n",
       "      <td>0.778689</td>\n",
       "      <td>0.358161</td>\n",
       "    </tr>\n",
       "    <tr>\n",
       "      <th>6</th>\n",
       "      <td>0.429104</td>\n",
       "      <td>0.463710</td>\n",
       "      <td>0.399306</td>\n",
       "      <td>0.685672</td>\n",
       "      <td>0.780851</td>\n",
       "      <td>0.348333</td>\n",
       "    </tr>\n",
       "    <tr>\n",
       "      <th>7</th>\n",
       "      <td>0.446529</td>\n",
       "      <td>0.463035</td>\n",
       "      <td>0.431159</td>\n",
       "      <td>0.689404</td>\n",
       "      <td>0.788285</td>\n",
       "      <td>0.367414</td>\n",
       "    </tr>\n",
       "    <tr>\n",
       "      <th>8</th>\n",
       "      <td>0.405157</td>\n",
       "      <td>0.433071</td>\n",
       "      <td>0.380623</td>\n",
       "      <td>0.668598</td>\n",
       "      <td>0.774335</td>\n",
       "      <td>0.319123</td>\n",
       "    </tr>\n",
       "    <tr>\n",
       "      <th>9</th>\n",
       "      <td>0.450450</td>\n",
       "      <td>0.502008</td>\n",
       "      <td>0.408497</td>\n",
       "      <td>0.702660</td>\n",
       "      <td>0.792612</td>\n",
       "      <td>0.371323</td>\n",
       "    </tr>\n",
       "  </tbody>\n",
       "</table>\n",
       "</div>"
      ],
      "text/plain": [
       "   f1_score_train  Recall_train  Precision_train  BAC_train  ROC_AUC_train  \\\n",
       "0        0.422383      0.469880         0.383607   0.684753       0.793641   \n",
       "1        0.439689      0.459350         0.421642   0.688363       0.787922   \n",
       "2        0.441696      0.502008         0.394322   0.699749       0.789934   \n",
       "3        0.484429      0.507246         0.463576   0.709745       0.816136   \n",
       "4        0.411111      0.472340         0.363934   0.684739       0.773240   \n",
       "5        0.441696      0.482625         0.407166   0.692441       0.778689   \n",
       "6        0.429104      0.463710         0.399306   0.685672       0.780851   \n",
       "7        0.446529      0.463035         0.431159   0.689404       0.788285   \n",
       "8        0.405157      0.433071         0.380623   0.668598       0.774335   \n",
       "9        0.450450      0.502008         0.408497   0.702660       0.792612   \n",
       "\n",
       "        MCC  \n",
       "0  0.338971  \n",
       "1  0.363068  \n",
       "2  0.360675  \n",
       "3  0.403880  \n",
       "4  0.330510  \n",
       "5  0.358161  \n",
       "6  0.348333  \n",
       "7  0.367414  \n",
       "8  0.319123  \n",
       "9  0.371323  "
      ]
     },
     "metadata": {},
     "output_type": "display_data"
    },
    {
     "data": {
      "text/plain": [
       "f1_score_train     0.437224\n",
       "Recall_train       0.475527\n",
       "Precision_train    0.405383\n",
       "BAC_train          0.690612\n",
       "ROC_AUC_train      0.787564\n",
       "MCC                0.356146\n",
       "dtype: float64"
      ]
     },
     "execution_count": 54,
     "metadata": {},
     "output_type": "execute_result"
    }
   ],
   "source": [
    "dfreportvalid=pd.DataFrame(reportvalid)\n",
    "\n",
    "display(dfreportvalid)\n",
    "dfreportvalid.mean()"
   ]
  },
  {
   "cell_type": "markdown",
   "metadata": {},
   "source": [
    "### Saving Model\n",
    "\n",
    "<hr>"
   ]
  },
  {
   "cell_type": "code",
   "execution_count": 524,
   "metadata": {},
   "outputs": [],
   "source": [
    "import joblib"
   ]
  },
  {
   "cell_type": "code",
   "execution_count": 525,
   "metadata": {},
   "outputs": [
    {
     "data": {
      "text/plain": [
       "['finalmodelcc']"
      ]
     },
     "execution_count": 525,
     "metadata": {},
     "output_type": "execute_result"
    }
   ],
   "source": [
    "joblib.dump(MLRF1B, 'finalmodelcc')"
   ]
  },
  {
   "cell_type": "markdown",
   "metadata": {},
   "source": [
    "### Testing Final Model\n",
    "\n",
    "<hr>"
   ]
  },
  {
   "cell_type": "code",
   "execution_count": 7,
   "metadata": {},
   "outputs": [],
   "source": [
    "import joblib"
   ]
  },
  {
   "cell_type": "code",
   "execution_count": 32,
   "metadata": {},
   "outputs": [],
   "source": [
    "finalmodel = joblib.load('finalmodelcc')"
   ]
  },
  {
   "cell_type": "code",
   "execution_count": 9,
   "metadata": {},
   "outputs": [],
   "source": [
    "IC = ['IncomeType_Commercial associate', 'IncomeType_Pensioner', 'IncomeType_State servant', 'IncomeType_Student', 'IncomeType_Working']"
   ]
  },
  {
   "cell_type": "code",
   "execution_count": 10,
   "metadata": {},
   "outputs": [],
   "source": [
    "dfx = pd.DataFrame([{\n",
    "    'Gender' : 0,\n",
    "    'Car' :  1,\n",
    "    'Property' :  0,\n",
    "    'NoChild' : 0,\n",
    "    'Income' : 112500.0,\n",
    "    'Age' : 44,\n",
    "    'LOE' : 9,\n",
    "    'Workphone' : 0,\n",
    "    'Phone' : 0,\n",
    "    'Email' : 0,\n",
    "    'FamSize' : 2\n",
    "}])"
   ]
  },
  {
   "cell_type": "code",
   "execution_count": 11,
   "metadata": {},
   "outputs": [],
   "source": [
    "def income(x) :\n",
    "    if x == 'working' :\n",
    "        return [0,0,0,0,1]\n",
    "    elif x == 'commercial' :\n",
    "        return [1,0,0,0,0]\n",
    "    elif x == 'pensioner' :\n",
    "        return [0,1,0,0,0]\n",
    "    elif x == 'state' :\n",
    "        return [0,0,1,0,0]\n",
    "    else :\n",
    "        return [0,0,0,1,0]"
   ]
  },
  {
   "cell_type": "code",
   "execution_count": 12,
   "metadata": {},
   "outputs": [
    {
     "data": {
      "text/plain": [
       "[0, 0, 0, 0, 1]"
      ]
     },
     "execution_count": 12,
     "metadata": {},
     "output_type": "execute_result"
    }
   ],
   "source": [
    "IV = income('working')\n",
    "IV"
   ]
  },
  {
   "cell_type": "code",
   "execution_count": 13,
   "metadata": {},
   "outputs": [],
   "source": [
    "dfID = pd.DataFrame([dict(zip(IC,IV))])"
   ]
  },
  {
   "cell_type": "code",
   "execution_count": 14,
   "metadata": {},
   "outputs": [
    {
     "data": {
      "text/html": [
       "<div>\n",
       "<style scoped>\n",
       "    .dataframe tbody tr th:only-of-type {\n",
       "        vertical-align: middle;\n",
       "    }\n",
       "\n",
       "    .dataframe tbody tr th {\n",
       "        vertical-align: top;\n",
       "    }\n",
       "\n",
       "    .dataframe thead th {\n",
       "        text-align: right;\n",
       "    }\n",
       "</style>\n",
       "<table border=\"1\" class=\"dataframe\">\n",
       "  <thead>\n",
       "    <tr style=\"text-align: right;\">\n",
       "      <th></th>\n",
       "      <th>Gender</th>\n",
       "      <th>Car</th>\n",
       "      <th>Property</th>\n",
       "      <th>NoChild</th>\n",
       "      <th>Income</th>\n",
       "      <th>Age</th>\n",
       "      <th>LOE</th>\n",
       "      <th>Workphone</th>\n",
       "      <th>Phone</th>\n",
       "      <th>Email</th>\n",
       "      <th>FamSize</th>\n",
       "      <th>IncomeType_Commercial associate</th>\n",
       "      <th>IncomeType_Pensioner</th>\n",
       "      <th>IncomeType_State servant</th>\n",
       "      <th>IncomeType_Student</th>\n",
       "      <th>IncomeType_Working</th>\n",
       "    </tr>\n",
       "  </thead>\n",
       "  <tbody>\n",
       "    <tr>\n",
       "      <th>0</th>\n",
       "      <td>0</td>\n",
       "      <td>1</td>\n",
       "      <td>0</td>\n",
       "      <td>0</td>\n",
       "      <td>112500.0</td>\n",
       "      <td>44</td>\n",
       "      <td>9</td>\n",
       "      <td>0</td>\n",
       "      <td>0</td>\n",
       "      <td>0</td>\n",
       "      <td>2</td>\n",
       "      <td>0</td>\n",
       "      <td>0</td>\n",
       "      <td>0</td>\n",
       "      <td>0</td>\n",
       "      <td>1</td>\n",
       "    </tr>\n",
       "  </tbody>\n",
       "</table>\n",
       "</div>"
      ],
      "text/plain": [
       "   Gender  Car  Property  NoChild    Income  Age  LOE  Workphone  Phone  \\\n",
       "0       0    1         0        0  112500.0   44    9          0      0   \n",
       "\n",
       "   Email  FamSize  IncomeType_Commercial associate  IncomeType_Pensioner  \\\n",
       "0      0        2                                0                     0   \n",
       "\n",
       "   IncomeType_State servant  IncomeType_Student  IncomeType_Working  \n",
       "0                         0                   0                   1  "
      ]
     },
     "execution_count": 14,
     "metadata": {},
     "output_type": "execute_result"
    }
   ],
   "source": [
    "dfx = pd.concat([dfx,dfID], axis='columns')\n",
    "dfx"
   ]
  },
  {
   "cell_type": "code",
   "execution_count": 15,
   "metadata": {},
   "outputs": [],
   "source": [
    "EC = ['Education_Academic degree', 'Education_Higher education', 'Education_Incomplete higher', 'Education_Lower secondary', 'Education_Secondary / secondary special']"
   ]
  },
  {
   "cell_type": "code",
   "execution_count": 16,
   "metadata": {},
   "outputs": [],
   "source": [
    "def education(x) :\n",
    "    if x == 'higher' :\n",
    "        return [0,1,0,0,0]\n",
    "    elif x == 'secondary' :\n",
    "        return [0,0,0,0,1]\n",
    "    elif x == 'incomplete' :\n",
    "        return [0,0,1,0,0]\n",
    "    elif x == 'lower' :\n",
    "        return [0,0,0,1,0]\n",
    "    else :\n",
    "        return [1,0,0,0,0]"
   ]
  },
  {
   "cell_type": "code",
   "execution_count": 17,
   "metadata": {},
   "outputs": [
    {
     "data": {
      "text/html": [
       "<div>\n",
       "<style scoped>\n",
       "    .dataframe tbody tr th:only-of-type {\n",
       "        vertical-align: middle;\n",
       "    }\n",
       "\n",
       "    .dataframe tbody tr th {\n",
       "        vertical-align: top;\n",
       "    }\n",
       "\n",
       "    .dataframe thead th {\n",
       "        text-align: right;\n",
       "    }\n",
       "</style>\n",
       "<table border=\"1\" class=\"dataframe\">\n",
       "  <thead>\n",
       "    <tr style=\"text-align: right;\">\n",
       "      <th></th>\n",
       "      <th>Education_Academic degree</th>\n",
       "      <th>Education_Higher education</th>\n",
       "      <th>Education_Incomplete higher</th>\n",
       "      <th>Education_Lower secondary</th>\n",
       "      <th>Education_Secondary / secondary special</th>\n",
       "    </tr>\n",
       "  </thead>\n",
       "  <tbody>\n",
       "    <tr>\n",
       "      <th>0</th>\n",
       "      <td>0</td>\n",
       "      <td>0</td>\n",
       "      <td>0</td>\n",
       "      <td>0</td>\n",
       "      <td>1</td>\n",
       "    </tr>\n",
       "  </tbody>\n",
       "</table>\n",
       "</div>"
      ],
      "text/plain": [
       "   Education_Academic degree  Education_Higher education  \\\n",
       "0                          0                           0   \n",
       "\n",
       "   Education_Incomplete higher  Education_Lower secondary  \\\n",
       "0                            0                          0   \n",
       "\n",
       "   Education_Secondary / secondary special  \n",
       "0                                        1  "
      ]
     },
     "execution_count": 17,
     "metadata": {},
     "output_type": "execute_result"
    }
   ],
   "source": [
    "EV = education('secondary')\n",
    "dfED = pd.DataFrame([dict(zip(EC,EV))])\n",
    "dfED"
   ]
  },
  {
   "cell_type": "code",
   "execution_count": 18,
   "metadata": {},
   "outputs": [
    {
     "data": {
      "text/html": [
       "<div>\n",
       "<style scoped>\n",
       "    .dataframe tbody tr th:only-of-type {\n",
       "        vertical-align: middle;\n",
       "    }\n",
       "\n",
       "    .dataframe tbody tr th {\n",
       "        vertical-align: top;\n",
       "    }\n",
       "\n",
       "    .dataframe thead th {\n",
       "        text-align: right;\n",
       "    }\n",
       "</style>\n",
       "<table border=\"1\" class=\"dataframe\">\n",
       "  <thead>\n",
       "    <tr style=\"text-align: right;\">\n",
       "      <th></th>\n",
       "      <th>Gender</th>\n",
       "      <th>Car</th>\n",
       "      <th>Property</th>\n",
       "      <th>NoChild</th>\n",
       "      <th>Income</th>\n",
       "      <th>Age</th>\n",
       "      <th>LOE</th>\n",
       "      <th>Workphone</th>\n",
       "      <th>Phone</th>\n",
       "      <th>Email</th>\n",
       "      <th>...</th>\n",
       "      <th>IncomeType_Commercial associate</th>\n",
       "      <th>IncomeType_Pensioner</th>\n",
       "      <th>IncomeType_State servant</th>\n",
       "      <th>IncomeType_Student</th>\n",
       "      <th>IncomeType_Working</th>\n",
       "      <th>Education_Academic degree</th>\n",
       "      <th>Education_Higher education</th>\n",
       "      <th>Education_Incomplete higher</th>\n",
       "      <th>Education_Lower secondary</th>\n",
       "      <th>Education_Secondary / secondary special</th>\n",
       "    </tr>\n",
       "  </thead>\n",
       "  <tbody>\n",
       "    <tr>\n",
       "      <th>0</th>\n",
       "      <td>0</td>\n",
       "      <td>1</td>\n",
       "      <td>0</td>\n",
       "      <td>0</td>\n",
       "      <td>112500.0</td>\n",
       "      <td>44</td>\n",
       "      <td>9</td>\n",
       "      <td>0</td>\n",
       "      <td>0</td>\n",
       "      <td>0</td>\n",
       "      <td>...</td>\n",
       "      <td>0</td>\n",
       "      <td>0</td>\n",
       "      <td>0</td>\n",
       "      <td>0</td>\n",
       "      <td>1</td>\n",
       "      <td>0</td>\n",
       "      <td>0</td>\n",
       "      <td>0</td>\n",
       "      <td>0</td>\n",
       "      <td>1</td>\n",
       "    </tr>\n",
       "  </tbody>\n",
       "</table>\n",
       "<p>1 rows × 21 columns</p>\n",
       "</div>"
      ],
      "text/plain": [
       "   Gender  Car  Property  NoChild    Income  Age  LOE  Workphone  Phone  \\\n",
       "0       0    1         0        0  112500.0   44    9          0      0   \n",
       "\n",
       "   Email  ...  IncomeType_Commercial associate  IncomeType_Pensioner  \\\n",
       "0      0  ...                                0                     0   \n",
       "\n",
       "   IncomeType_State servant  IncomeType_Student  IncomeType_Working  \\\n",
       "0                         0                   0                   1   \n",
       "\n",
       "   Education_Academic degree  Education_Higher education  \\\n",
       "0                          0                           0   \n",
       "\n",
       "   Education_Incomplete higher  Education_Lower secondary  \\\n",
       "0                            0                          0   \n",
       "\n",
       "   Education_Secondary / secondary special  \n",
       "0                                        1  \n",
       "\n",
       "[1 rows x 21 columns]"
      ]
     },
     "execution_count": 18,
     "metadata": {},
     "output_type": "execute_result"
    }
   ],
   "source": [
    "dfx = pd.concat([dfx,dfED], axis='columns')\n",
    "dfx"
   ]
  },
  {
   "cell_type": "code",
   "execution_count": 19,
   "metadata": {},
   "outputs": [],
   "source": [
    "MC = ['MartialStat_Civil marriage', 'MartialStat_Married', 'MartialStat_Separated', 'MartialStat_Single / not married', 'MartialStat_Widow']"
   ]
  },
  {
   "cell_type": "code",
   "execution_count": 20,
   "metadata": {},
   "outputs": [],
   "source": [
    "def martial(x) :\n",
    "    if x == 'm' :\n",
    "        return [0,1,0,0,0]\n",
    "    elif x == 'w' :\n",
    "        return [0,0,0,0,1]\n",
    "    elif x == 's' :\n",
    "        return [0,0,1,0,0]\n",
    "    elif x == 'nm' :\n",
    "        return [0,0,0,1,0]\n",
    "    else :\n",
    "        return [1,0,0,0,0]"
   ]
  },
  {
   "cell_type": "code",
   "execution_count": 21,
   "metadata": {},
   "outputs": [
    {
     "data": {
      "text/html": [
       "<div>\n",
       "<style scoped>\n",
       "    .dataframe tbody tr th:only-of-type {\n",
       "        vertical-align: middle;\n",
       "    }\n",
       "\n",
       "    .dataframe tbody tr th {\n",
       "        vertical-align: top;\n",
       "    }\n",
       "\n",
       "    .dataframe thead th {\n",
       "        text-align: right;\n",
       "    }\n",
       "</style>\n",
       "<table border=\"1\" class=\"dataframe\">\n",
       "  <thead>\n",
       "    <tr style=\"text-align: right;\">\n",
       "      <th></th>\n",
       "      <th>MartialStat_Civil marriage</th>\n",
       "      <th>MartialStat_Married</th>\n",
       "      <th>MartialStat_Separated</th>\n",
       "      <th>MartialStat_Single / not married</th>\n",
       "      <th>MartialStat_Widow</th>\n",
       "    </tr>\n",
       "  </thead>\n",
       "  <tbody>\n",
       "    <tr>\n",
       "      <th>0</th>\n",
       "      <td>0</td>\n",
       "      <td>1</td>\n",
       "      <td>0</td>\n",
       "      <td>0</td>\n",
       "      <td>0</td>\n",
       "    </tr>\n",
       "  </tbody>\n",
       "</table>\n",
       "</div>"
      ],
      "text/plain": [
       "   MartialStat_Civil marriage  MartialStat_Married  MartialStat_Separated  \\\n",
       "0                           0                    1                      0   \n",
       "\n",
       "   MartialStat_Single / not married  MartialStat_Widow  \n",
       "0                                 0                  0  "
      ]
     },
     "execution_count": 21,
     "metadata": {},
     "output_type": "execute_result"
    }
   ],
   "source": [
    "MV = martial('m')\n",
    "dfMD = pd.DataFrame([dict(zip(MC,MV))])\n",
    "dfMD"
   ]
  },
  {
   "cell_type": "code",
   "execution_count": 22,
   "metadata": {},
   "outputs": [
    {
     "data": {
      "text/html": [
       "<div>\n",
       "<style scoped>\n",
       "    .dataframe tbody tr th:only-of-type {\n",
       "        vertical-align: middle;\n",
       "    }\n",
       "\n",
       "    .dataframe tbody tr th {\n",
       "        vertical-align: top;\n",
       "    }\n",
       "\n",
       "    .dataframe thead th {\n",
       "        text-align: right;\n",
       "    }\n",
       "</style>\n",
       "<table border=\"1\" class=\"dataframe\">\n",
       "  <thead>\n",
       "    <tr style=\"text-align: right;\">\n",
       "      <th></th>\n",
       "      <th>Gender</th>\n",
       "      <th>Car</th>\n",
       "      <th>Property</th>\n",
       "      <th>NoChild</th>\n",
       "      <th>Income</th>\n",
       "      <th>Age</th>\n",
       "      <th>LOE</th>\n",
       "      <th>Workphone</th>\n",
       "      <th>Phone</th>\n",
       "      <th>Email</th>\n",
       "      <th>...</th>\n",
       "      <th>Education_Academic degree</th>\n",
       "      <th>Education_Higher education</th>\n",
       "      <th>Education_Incomplete higher</th>\n",
       "      <th>Education_Lower secondary</th>\n",
       "      <th>Education_Secondary / secondary special</th>\n",
       "      <th>MartialStat_Civil marriage</th>\n",
       "      <th>MartialStat_Married</th>\n",
       "      <th>MartialStat_Separated</th>\n",
       "      <th>MartialStat_Single / not married</th>\n",
       "      <th>MartialStat_Widow</th>\n",
       "    </tr>\n",
       "  </thead>\n",
       "  <tbody>\n",
       "    <tr>\n",
       "      <th>0</th>\n",
       "      <td>0</td>\n",
       "      <td>1</td>\n",
       "      <td>0</td>\n",
       "      <td>0</td>\n",
       "      <td>112500.0</td>\n",
       "      <td>44</td>\n",
       "      <td>9</td>\n",
       "      <td>0</td>\n",
       "      <td>0</td>\n",
       "      <td>0</td>\n",
       "      <td>...</td>\n",
       "      <td>0</td>\n",
       "      <td>0</td>\n",
       "      <td>0</td>\n",
       "      <td>0</td>\n",
       "      <td>1</td>\n",
       "      <td>0</td>\n",
       "      <td>1</td>\n",
       "      <td>0</td>\n",
       "      <td>0</td>\n",
       "      <td>0</td>\n",
       "    </tr>\n",
       "  </tbody>\n",
       "</table>\n",
       "<p>1 rows × 26 columns</p>\n",
       "</div>"
      ],
      "text/plain": [
       "   Gender  Car  Property  NoChild    Income  Age  LOE  Workphone  Phone  \\\n",
       "0       0    1         0        0  112500.0   44    9          0      0   \n",
       "\n",
       "   Email  ...  Education_Academic degree  Education_Higher education  \\\n",
       "0      0  ...                          0                           0   \n",
       "\n",
       "   Education_Incomplete higher  Education_Lower secondary  \\\n",
       "0                            0                          0   \n",
       "\n",
       "   Education_Secondary / secondary special  MartialStat_Civil marriage  \\\n",
       "0                                        1                           0   \n",
       "\n",
       "   MartialStat_Married  MartialStat_Separated  \\\n",
       "0                    1                      0   \n",
       "\n",
       "   MartialStat_Single / not married  MartialStat_Widow  \n",
       "0                                 0                  0  \n",
       "\n",
       "[1 rows x 26 columns]"
      ]
     },
     "execution_count": 22,
     "metadata": {},
     "output_type": "execute_result"
    }
   ],
   "source": [
    "dfx = pd.concat([dfx,dfMD], axis='columns')\n",
    "dfx"
   ]
  },
  {
   "cell_type": "code",
   "execution_count": 23,
   "metadata": {},
   "outputs": [],
   "source": [
    "HC = ['HousingType_Co-op apartment', 'HousingType_House / apartment', 'HousingType_Municipal apartment', 'HousingType_Office apartment', 'HousingType_Rented apartment', 'HousingType_With parents']"
   ]
  },
  {
   "cell_type": "code",
   "execution_count": 24,
   "metadata": {},
   "outputs": [],
   "source": [
    "def housing(x) :\n",
    "    if x == 'ra' :\n",
    "        return [0,0,0,0,1,0]\n",
    "    elif x == 'h' :\n",
    "        return [0,1,0,0,0,0]\n",
    "    elif x == 'ma' :\n",
    "        return [0,0,1,0,0,0]\n",
    "    elif x == 'p' :\n",
    "        return [0,0,0,0,0,1]\n",
    "    elif x == 'ca' :\n",
    "        return [1,0,0,0,0,0]\n",
    "    else :\n",
    "        return [0,0,0,1,0,0]"
   ]
  },
  {
   "cell_type": "code",
   "execution_count": 25,
   "metadata": {},
   "outputs": [
    {
     "data": {
      "text/html": [
       "<div>\n",
       "<style scoped>\n",
       "    .dataframe tbody tr th:only-of-type {\n",
       "        vertical-align: middle;\n",
       "    }\n",
       "\n",
       "    .dataframe tbody tr th {\n",
       "        vertical-align: top;\n",
       "    }\n",
       "\n",
       "    .dataframe thead th {\n",
       "        text-align: right;\n",
       "    }\n",
       "</style>\n",
       "<table border=\"1\" class=\"dataframe\">\n",
       "  <thead>\n",
       "    <tr style=\"text-align: right;\">\n",
       "      <th></th>\n",
       "      <th>HousingType_Co-op apartment</th>\n",
       "      <th>HousingType_House / apartment</th>\n",
       "      <th>HousingType_Municipal apartment</th>\n",
       "      <th>HousingType_Office apartment</th>\n",
       "      <th>HousingType_Rented apartment</th>\n",
       "      <th>HousingType_With parents</th>\n",
       "    </tr>\n",
       "  </thead>\n",
       "  <tbody>\n",
       "    <tr>\n",
       "      <th>0</th>\n",
       "      <td>0</td>\n",
       "      <td>1</td>\n",
       "      <td>0</td>\n",
       "      <td>0</td>\n",
       "      <td>0</td>\n",
       "      <td>0</td>\n",
       "    </tr>\n",
       "  </tbody>\n",
       "</table>\n",
       "</div>"
      ],
      "text/plain": [
       "   HousingType_Co-op apartment  HousingType_House / apartment  \\\n",
       "0                            0                              1   \n",
       "\n",
       "   HousingType_Municipal apartment  HousingType_Office apartment  \\\n",
       "0                                0                             0   \n",
       "\n",
       "   HousingType_Rented apartment  HousingType_With parents  \n",
       "0                             0                         0  "
      ]
     },
     "execution_count": 25,
     "metadata": {},
     "output_type": "execute_result"
    }
   ],
   "source": [
    "HV = housing ('h')\n",
    "dfHD = pd.DataFrame([dict(zip(HC,HV))])\n",
    "dfHD"
   ]
  },
  {
   "cell_type": "code",
   "execution_count": 26,
   "metadata": {},
   "outputs": [
    {
     "data": {
      "text/html": [
       "<div>\n",
       "<style scoped>\n",
       "    .dataframe tbody tr th:only-of-type {\n",
       "        vertical-align: middle;\n",
       "    }\n",
       "\n",
       "    .dataframe tbody tr th {\n",
       "        vertical-align: top;\n",
       "    }\n",
       "\n",
       "    .dataframe thead th {\n",
       "        text-align: right;\n",
       "    }\n",
       "</style>\n",
       "<table border=\"1\" class=\"dataframe\">\n",
       "  <thead>\n",
       "    <tr style=\"text-align: right;\">\n",
       "      <th></th>\n",
       "      <th>Gender</th>\n",
       "      <th>Car</th>\n",
       "      <th>Property</th>\n",
       "      <th>NoChild</th>\n",
       "      <th>Income</th>\n",
       "      <th>Age</th>\n",
       "      <th>LOE</th>\n",
       "      <th>Workphone</th>\n",
       "      <th>Phone</th>\n",
       "      <th>Email</th>\n",
       "      <th>...</th>\n",
       "      <th>MartialStat_Married</th>\n",
       "      <th>MartialStat_Separated</th>\n",
       "      <th>MartialStat_Single / not married</th>\n",
       "      <th>MartialStat_Widow</th>\n",
       "      <th>HousingType_Co-op apartment</th>\n",
       "      <th>HousingType_House / apartment</th>\n",
       "      <th>HousingType_Municipal apartment</th>\n",
       "      <th>HousingType_Office apartment</th>\n",
       "      <th>HousingType_Rented apartment</th>\n",
       "      <th>HousingType_With parents</th>\n",
       "    </tr>\n",
       "  </thead>\n",
       "  <tbody>\n",
       "    <tr>\n",
       "      <th>0</th>\n",
       "      <td>0</td>\n",
       "      <td>1</td>\n",
       "      <td>0</td>\n",
       "      <td>0</td>\n",
       "      <td>112500.0</td>\n",
       "      <td>44</td>\n",
       "      <td>9</td>\n",
       "      <td>0</td>\n",
       "      <td>0</td>\n",
       "      <td>0</td>\n",
       "      <td>...</td>\n",
       "      <td>1</td>\n",
       "      <td>0</td>\n",
       "      <td>0</td>\n",
       "      <td>0</td>\n",
       "      <td>0</td>\n",
       "      <td>1</td>\n",
       "      <td>0</td>\n",
       "      <td>0</td>\n",
       "      <td>0</td>\n",
       "      <td>0</td>\n",
       "    </tr>\n",
       "  </tbody>\n",
       "</table>\n",
       "<p>1 rows × 32 columns</p>\n",
       "</div>"
      ],
      "text/plain": [
       "   Gender  Car  Property  NoChild    Income  Age  LOE  Workphone  Phone  \\\n",
       "0       0    1         0        0  112500.0   44    9          0      0   \n",
       "\n",
       "   Email  ...  MartialStat_Married  MartialStat_Separated  \\\n",
       "0      0  ...                    1                      0   \n",
       "\n",
       "   MartialStat_Single / not married  MartialStat_Widow  \\\n",
       "0                                 0                  0   \n",
       "\n",
       "   HousingType_Co-op apartment  HousingType_House / apartment  \\\n",
       "0                            0                              1   \n",
       "\n",
       "   HousingType_Municipal apartment  HousingType_Office apartment  \\\n",
       "0                                0                             0   \n",
       "\n",
       "   HousingType_Rented apartment  HousingType_With parents  \n",
       "0                             0                         0  \n",
       "\n",
       "[1 rows x 32 columns]"
      ]
     },
     "execution_count": 26,
     "metadata": {},
     "output_type": "execute_result"
    }
   ],
   "source": [
    "dfx = pd.concat([dfx,dfHD], axis='columns')\n",
    "dfx"
   ]
  },
  {
   "cell_type": "code",
   "execution_count": 27,
   "metadata": {},
   "outputs": [],
   "source": [
    "OC = ['Occupation_Accountants', 'Occupation_Cleaning staff', \n",
    "      'Occupation_Cooking staff', 'Occupation_Core staff',\n",
    "       'Occupation_Drivers', 'Occupation_HR staff',\n",
    "       'Occupation_High skill tech staff', 'Occupation_IT staff',\n",
    "       'Occupation_Laborers', 'Occupation_Low-skill Laborers',\n",
    "       'Occupation_Managers', 'Occupation_Medicine staff', 'Occupation_Others',\n",
    "       'Occupation_Private service staff', 'Occupation_Realty agents',\n",
    "       'Occupation_Sales staff', 'Occupation_Secretaries',\n",
    "       'Occupation_Security staff', 'Occupation_Waiters/barmen staff']"
   ]
  },
  {
   "cell_type": "code",
   "execution_count": 28,
   "metadata": {},
   "outputs": [],
   "source": [
    "def occupation(x) :\n",
    "    if x == 'acc' :\n",
    "        return [1,0,0,0,0,0,0,0,0,0,0,0,0,0,0,0,0,0,0]\n",
    "    elif x == 'clean' :\n",
    "        return [0,1,0,0,0,0,0,0,0,0,0,0,0,0,0,0,0,0,0]\n",
    "    elif x == 'cooking' :\n",
    "        return [0,0,1,0,0,0,0,0,0,0,0,0,0,0,0,0,0,0,0]\n",
    "    elif x == 'core' :\n",
    "        return [0,0,0,1,0,0,0,0,0,0,0,0,0,0,0,0,0,0,0]\n",
    "    elif x == 'driver' :\n",
    "        return [0,0,0,0,1,0,0,0,0,0,0,0,0,0,0,0,0,0,0]\n",
    "    elif x == 'hr' :\n",
    "        return [0,0,0,0,0,1,0,0,0,0,0,0,0,0,0,0,0,0,0]\n",
    "    elif x == 'tech' :\n",
    "        return [0,0,0,0,0,0,1,0,0,0,0,0,0,0,0,0,0,0,0]\n",
    "    elif x == 'it' :\n",
    "        return [0,0,0,0,0,0,0,1,0,0,0,0,0,0,0,0,0,0,0]\n",
    "    elif x == 'labor' :\n",
    "        return [0,0,0,0,0,0,0,0,1,0,0,0,0,0,0,0,0,0,0]\n",
    "    elif x == 'ls' :\n",
    "        return [0,0,0,0,0,0,0,0,0,1,0,0,0,0,0,0,0,0,0]\n",
    "    elif x == 'man' :\n",
    "        return [0,0,0,0,0,0,0,0,0,0,1,0,0,0,0,0,0,0,0]\n",
    "    elif x == 'med' :\n",
    "        return [0,0,0,0,0,0,0,0,0,0,0,1,0,0,0,0,0,0,0]\n",
    "    elif x == 'other' :\n",
    "        return [0,0,0,0,0,0,0,0,0,0,0,0,1,0,0,0,0,0,0]\n",
    "    elif x == 'private' :\n",
    "        return [0,0,0,0,0,0,0,0,0,0,0,0,0,1,0,0,0,0,0]\n",
    "    elif x == 'ra' :\n",
    "        return [0,0,0,0,0,0,0,0,0,0,0,0,0,0,1,0,0,0,0]\n",
    "    elif x == 'sales' :\n",
    "        return [0,0,0,0,0,0,0,0,0,0,0,0,0,0,0,1,0,0,0]\n",
    "    elif x == 'secre' :\n",
    "        return [0,0,0,0,0,0,0,0,0,0,0,0,0,0,0,0,1,0,0]\n",
    "    elif x == 'security' :\n",
    "        return [0,0,0,0,0,0,0,0,0,0,0,0,0,0,0,0,0,1,0]\n",
    "    else :\n",
    "        return [0,0,0,0,0,0,0,0,0,0,0,0,0,0,0,0,0,0,1]"
   ]
  },
  {
   "cell_type": "code",
   "execution_count": 29,
   "metadata": {},
   "outputs": [
    {
     "data": {
      "text/html": [
       "<div>\n",
       "<style scoped>\n",
       "    .dataframe tbody tr th:only-of-type {\n",
       "        vertical-align: middle;\n",
       "    }\n",
       "\n",
       "    .dataframe tbody tr th {\n",
       "        vertical-align: top;\n",
       "    }\n",
       "\n",
       "    .dataframe thead th {\n",
       "        text-align: right;\n",
       "    }\n",
       "</style>\n",
       "<table border=\"1\" class=\"dataframe\">\n",
       "  <thead>\n",
       "    <tr style=\"text-align: right;\">\n",
       "      <th></th>\n",
       "      <th>Occupation_Accountants</th>\n",
       "      <th>Occupation_Cleaning staff</th>\n",
       "      <th>Occupation_Cooking staff</th>\n",
       "      <th>Occupation_Core staff</th>\n",
       "      <th>Occupation_Drivers</th>\n",
       "      <th>Occupation_HR staff</th>\n",
       "      <th>Occupation_High skill tech staff</th>\n",
       "      <th>Occupation_IT staff</th>\n",
       "      <th>Occupation_Laborers</th>\n",
       "      <th>Occupation_Low-skill Laborers</th>\n",
       "      <th>Occupation_Managers</th>\n",
       "      <th>Occupation_Medicine staff</th>\n",
       "      <th>Occupation_Others</th>\n",
       "      <th>Occupation_Private service staff</th>\n",
       "      <th>Occupation_Realty agents</th>\n",
       "      <th>Occupation_Sales staff</th>\n",
       "      <th>Occupation_Secretaries</th>\n",
       "      <th>Occupation_Security staff</th>\n",
       "      <th>Occupation_Waiters/barmen staff</th>\n",
       "    </tr>\n",
       "  </thead>\n",
       "  <tbody>\n",
       "    <tr>\n",
       "      <th>0</th>\n",
       "      <td>0</td>\n",
       "      <td>0</td>\n",
       "      <td>0</td>\n",
       "      <td>0</td>\n",
       "      <td>0</td>\n",
       "      <td>0</td>\n",
       "      <td>0</td>\n",
       "      <td>0</td>\n",
       "      <td>0</td>\n",
       "      <td>0</td>\n",
       "      <td>0</td>\n",
       "      <td>0</td>\n",
       "      <td>0</td>\n",
       "      <td>0</td>\n",
       "      <td>0</td>\n",
       "      <td>1</td>\n",
       "      <td>0</td>\n",
       "      <td>0</td>\n",
       "      <td>0</td>\n",
       "    </tr>\n",
       "  </tbody>\n",
       "</table>\n",
       "</div>"
      ],
      "text/plain": [
       "   Occupation_Accountants  Occupation_Cleaning staff  \\\n",
       "0                       0                          0   \n",
       "\n",
       "   Occupation_Cooking staff  Occupation_Core staff  Occupation_Drivers  \\\n",
       "0                         0                      0                   0   \n",
       "\n",
       "   Occupation_HR staff  Occupation_High skill tech staff  Occupation_IT staff  \\\n",
       "0                    0                                 0                    0   \n",
       "\n",
       "   Occupation_Laborers  Occupation_Low-skill Laborers  Occupation_Managers  \\\n",
       "0                    0                              0                    0   \n",
       "\n",
       "   Occupation_Medicine staff  Occupation_Others  \\\n",
       "0                          0                  0   \n",
       "\n",
       "   Occupation_Private service staff  Occupation_Realty agents  \\\n",
       "0                                 0                         0   \n",
       "\n",
       "   Occupation_Sales staff  Occupation_Secretaries  Occupation_Security staff  \\\n",
       "0                       1                       0                          0   \n",
       "\n",
       "   Occupation_Waiters/barmen staff  \n",
       "0                                0  "
      ]
     },
     "execution_count": 29,
     "metadata": {},
     "output_type": "execute_result"
    }
   ],
   "source": [
    "OV = occupation ('sales')\n",
    "dfOD = pd.DataFrame([dict(zip(OC,OV))])\n",
    "dfOD"
   ]
  },
  {
   "cell_type": "code",
   "execution_count": 30,
   "metadata": {},
   "outputs": [
    {
     "data": {
      "text/html": [
       "<div>\n",
       "<style scoped>\n",
       "    .dataframe tbody tr th:only-of-type {\n",
       "        vertical-align: middle;\n",
       "    }\n",
       "\n",
       "    .dataframe tbody tr th {\n",
       "        vertical-align: top;\n",
       "    }\n",
       "\n",
       "    .dataframe thead th {\n",
       "        text-align: right;\n",
       "    }\n",
       "</style>\n",
       "<table border=\"1\" class=\"dataframe\">\n",
       "  <thead>\n",
       "    <tr style=\"text-align: right;\">\n",
       "      <th></th>\n",
       "      <th>Gender</th>\n",
       "      <th>Car</th>\n",
       "      <th>Property</th>\n",
       "      <th>NoChild</th>\n",
       "      <th>Income</th>\n",
       "      <th>Age</th>\n",
       "      <th>LOE</th>\n",
       "      <th>Workphone</th>\n",
       "      <th>Phone</th>\n",
       "      <th>Email</th>\n",
       "      <th>...</th>\n",
       "      <th>Occupation_Low-skill Laborers</th>\n",
       "      <th>Occupation_Managers</th>\n",
       "      <th>Occupation_Medicine staff</th>\n",
       "      <th>Occupation_Others</th>\n",
       "      <th>Occupation_Private service staff</th>\n",
       "      <th>Occupation_Realty agents</th>\n",
       "      <th>Occupation_Sales staff</th>\n",
       "      <th>Occupation_Secretaries</th>\n",
       "      <th>Occupation_Security staff</th>\n",
       "      <th>Occupation_Waiters/barmen staff</th>\n",
       "    </tr>\n",
       "  </thead>\n",
       "  <tbody>\n",
       "    <tr>\n",
       "      <th>0</th>\n",
       "      <td>0</td>\n",
       "      <td>1</td>\n",
       "      <td>0</td>\n",
       "      <td>0</td>\n",
       "      <td>112500.0</td>\n",
       "      <td>44</td>\n",
       "      <td>9</td>\n",
       "      <td>0</td>\n",
       "      <td>0</td>\n",
       "      <td>0</td>\n",
       "      <td>...</td>\n",
       "      <td>0</td>\n",
       "      <td>0</td>\n",
       "      <td>0</td>\n",
       "      <td>0</td>\n",
       "      <td>0</td>\n",
       "      <td>0</td>\n",
       "      <td>1</td>\n",
       "      <td>0</td>\n",
       "      <td>0</td>\n",
       "      <td>0</td>\n",
       "    </tr>\n",
       "  </tbody>\n",
       "</table>\n",
       "<p>1 rows × 51 columns</p>\n",
       "</div>"
      ],
      "text/plain": [
       "   Gender  Car  Property  NoChild    Income  Age  LOE  Workphone  Phone  \\\n",
       "0       0    1         0        0  112500.0   44    9          0      0   \n",
       "\n",
       "   Email  ...  Occupation_Low-skill Laborers  Occupation_Managers  \\\n",
       "0      0  ...                              0                    0   \n",
       "\n",
       "   Occupation_Medicine staff  Occupation_Others  \\\n",
       "0                          0                  0   \n",
       "\n",
       "   Occupation_Private service staff  Occupation_Realty agents  \\\n",
       "0                                 0                         0   \n",
       "\n",
       "   Occupation_Sales staff  Occupation_Secretaries  Occupation_Security staff  \\\n",
       "0                       1                       0                          0   \n",
       "\n",
       "   Occupation_Waiters/barmen staff  \n",
       "0                                0  \n",
       "\n",
       "[1 rows x 51 columns]"
      ]
     },
     "execution_count": 30,
     "metadata": {},
     "output_type": "execute_result"
    }
   ],
   "source": [
    "dfx = pd.concat([dfx,dfOD], axis='columns')\n",
    "dfx"
   ]
  },
  {
   "cell_type": "code",
   "execution_count": 33,
   "metadata": {},
   "outputs": [],
   "source": [
    "FP = finalmodel.predict(dfx)\n",
    "FPP = finalmodel.predict_proba(dfx)"
   ]
  },
  {
   "cell_type": "code",
   "execution_count": 34,
   "metadata": {},
   "outputs": [
    {
     "data": {
      "text/plain": [
       "array([1], dtype=int64)"
      ]
     },
     "execution_count": 34,
     "metadata": {},
     "output_type": "execute_result"
    }
   ],
   "source": [
    "FP"
   ]
  },
  {
   "cell_type": "code",
   "execution_count": 35,
   "metadata": {},
   "outputs": [
    {
     "data": {
      "text/plain": [
       "97"
      ]
     },
     "execution_count": 35,
     "metadata": {},
     "output_type": "execute_result"
    }
   ],
   "source": [
    "int(FPP[:,1]*100)"
   ]
  },
  {
   "cell_type": "code",
   "execution_count": null,
   "metadata": {},
   "outputs": [],
   "source": []
  }
 ],
 "metadata": {
  "kernelspec": {
   "display_name": "Python 3",
   "language": "python",
   "name": "python3"
  },
  "language_info": {
   "codemirror_mode": {
    "name": "ipython",
    "version": 3
   },
   "file_extension": ".py",
   "mimetype": "text/x-python",
   "name": "python",
   "nbconvert_exporter": "python",
   "pygments_lexer": "ipython3",
   "version": "3.8.1"
  }
 },
 "nbformat": 4,
 "nbformat_minor": 4
}
